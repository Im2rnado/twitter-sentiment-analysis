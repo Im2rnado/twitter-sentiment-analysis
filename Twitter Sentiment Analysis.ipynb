{
  "cells": [
    {
      "cell_type": "markdown",
      "id": "013a36d5",
      "metadata": {
        "id": "013a36d5"
      },
      "source": [
        "# Sentiment Analysis on Tweets\n",
        "### By: Yassin Bedier, Ibrahim Labib, Alia Guda and Noor Abdelhady"
      ]
    },
    {
      "cell_type": "markdown",
      "id": "58358123",
      "metadata": {
        "id": "58358123"
      },
      "source": [
        "##### 1. Import necessary Libraries"
      ]
    },
    {
      "cell_type": "code",
      "execution_count": 1,
      "id": "78aa4bb5-5bbb-4e0c-adad-bd14123f07fa",
      "metadata": {
        "id": "78aa4bb5-5bbb-4e0c-adad-bd14123f07fa",
        "tags": []
      },
      "outputs": [],
      "source": [
        "import pandas as pd\n",
        "import numpy as np\n",
        "import matplotlib.pyplot as plt\n",
        "import seaborn as sns\n",
        "from sklearn.model_selection import train_test_split\n",
        "from sklearn.feature_extraction.text import CountVectorizer, TfidfVectorizer\n",
        "from sklearn.linear_model import LogisticRegression\n",
        "from sklearn.tree import DecisionTreeClassifier\n",
        "from sklearn.neighbors import KNeighborsClassifier\n",
        "from sklearn.ensemble import RandomForestClassifier\n",
        "from sklearn.metrics import accuracy_score, classification_report\n",
        "import re\n",
        "from nltk.corpus import stopwords\n",
        "from nltk.stem import WordNetLemmatizer\n",
        "from nltk.stem.porter import PorterStemmer\n",
        "import nltk\n",
        "from sklearn.svm import SVC\n",
        "from xgboost import XGBClassifier\n",
        "import torch\n",
        "from transformers import AutoTokenizer, AutoModelForSequenceClassification, AdamW, get_linear_schedule_with_warmup\n",
        "from torch.utils.data import DataLoader, TensorDataset\n",
        "from tqdm import tqdm"
      ]
    },
    {
      "cell_type": "markdown",
      "id": "0c38470a",
      "metadata": {
        "id": "0c38470a"
      },
      "source": [
        "##### 2. Load the training dataset veg_train.csv in a dataframe df_train"
      ]
    },
    {
      "cell_type": "code",
      "execution_count": 2,
      "id": "1ff24cbf-cdd3-4fa2-bd2d-c445430b6d1b",
      "metadata": {
        "id": "1ff24cbf-cdd3-4fa2-bd2d-c445430b6d1b",
        "tags": []
      },
      "outputs": [],
      "source": [
        "df_train = pd.read_csv(\"data/train_data.csv\")"
      ]
    },
    {
      "cell_type": "markdown",
      "id": "add65a11",
      "metadata": {
        "id": "add65a11"
      },
      "source": [
        "##### 3. Display the first five rows in df_train"
      ]
    },
    {
      "cell_type": "code",
      "execution_count": 3,
      "id": "aaa2b549-3216-4cf0-b8d1-ec30dcc7ccf3",
      "metadata": {
        "colab": {
          "base_uri": "https://localhost:8080/"
        },
        "id": "aaa2b549-3216-4cf0-b8d1-ec30dcc7ccf3",
        "outputId": "f0273e87-ab87-43e0-b53d-106589012e5b",
        "tags": []
      },
      "outputs": [
        {
          "name": "stdout",
          "output_type": "stream",
          "text": [
            "   Tweet_ID                                              Tweet  Sentiment\n",
            "0         1  RT @user Dear @user please cancel Sizzling Chi...          0\n",
            "1         2          Honestly, fuck a cauliflower pizza crust.          0\n",
            "2         3  @user I’m going all out this year lol. Bought ...          1\n",
            "3         4  @user @user Yes and at the same time I’m a fra...          0\n",
            "4         5        I need answers. A FUCKING SAP NO YAMS @user          0\n"
          ]
        }
      ],
      "source": [
        "print(df_train.head())"
      ]
    },
    {
      "cell_type": "markdown",
      "id": "bc62858e",
      "metadata": {
        "id": "bc62858e"
      },
      "source": [
        "##### 4. Plot the distribution count of the sentiment"
      ]
    },
    {
      "cell_type": "code",
      "execution_count": 4,
      "id": "44d1c1a0-113b-439e-b4d6-6d9b5d9b8d79",
      "metadata": {
        "colab": {
          "base_uri": "https://localhost:8080/",
          "height": 472
        },
        "id": "44d1c1a0-113b-439e-b4d6-6d9b5d9b8d79",
        "outputId": "910b8da3-39d8-473f-9986-74da163e90ba",
        "tags": []
      },
      "outputs": [
        {
          "data": {
            "image/png": "[encoded data removed]",
            "text/plain": [
              "<Figure size 640x480 with 1 Axes>"
            ]
          },
          "metadata": {},
          "output_type": "display_data"
        }
      ],
      "source": [
        "sns.countplot(x='Sentiment', data=df_train)\n",
        "plt.title('Distribution of Sentiments')\n",
        "plt.show()"
      ]
    },
    {
      "cell_type": "markdown",
      "id": "f6aeb192",
      "metadata": {
        "id": "f6aeb192"
      },
      "source": [
        "##### 5. Perform Preprocessing on the tweets"
      ]
    },
    {
      "cell_type": "code",
      "execution_count": 7,
      "id": "5ff85878-87d2-4c7b-aaa3-1fc49a4fac04",
      "metadata": {
        "id": "5ff85878-87d2-4c7b-aaa3-1fc49a4fac04",
        "tags": []
      },
      "outputs": [],
      "source": [
        "# Only run the following downloads on your first time\n",
        "#nltk.download('stopwords')\n",
        "#nltk.download('wordnet')\n",
        "#nltk.download('punkt')\n",
        "#nltk.download('averaged_perceptron_tagger')\n",
        "\n",
        "# stop words\n",
        "stop_words = set(stopwords.words('english'))\n",
        "not_stopwords = {'not', 'bad', 'hate', 'isnt', 'no'}\n",
        "stop_words = set([word for word in stop_words if word not in not_stopwords])\n",
        "\n",
        "lemmatizer = WordNetLemmatizer()\n",
        "porter_stemmer = PorterStemmer()\n",
        "\n",
        "# cleaning tweets\n",
        "def text_preprocessing(text):\n",
        "    processed_tweet = []\n",
        "    # lowercase\n",
        "    text = text.lower()\n",
        "\n",
        "    # remove usernames\n",
        "    text = re.sub(r'user', '', text)\n",
        "\n",
        "    # remove retweet\n",
        "    text = re.sub(r'rt', '', text)\n",
        "\n",
        "    #handle emoticons\n",
        "    # Smile -- :), : ), :-), (:, ( :, (-:, :')\n",
        "    text = re.sub(r'(:\\s?\\)|:-\\)|\\(\\s?:|\\(-:|:\\'\\))', ' EMO_POS ', text)\n",
        "    # Laugh -- :D, : D, :-D, xD, x-D, XD, X-D\n",
        "    text = re.sub(r'(:\\s?D|:-D|x-?D|X-?D)', ' EMO_POS ', text)\n",
        "    # Love -- <3, :*\n",
        "    text = re.sub(r'(<3|:\\*)', ' EMO_POS ', text)\n",
        "    # Wink -- ;-), ;), ;-D, ;D, (;,  (-;\n",
        "    text = re.sub(r'(;-?\\)|;-?D|\\(-?;)', ' EMO_POS ', text)\n",
        "    # Sad -- :-(, : (, :(, ):, )-:\n",
        "    text = re.sub(r'(:\\s?\\(|:-\\(|\\)\\s?:|\\)-:)', ' EMO_NEG ', text)\n",
        "    # Cry -- :,(, :'(, :\"(\n",
        "    text = re.sub(r'(:,\\(|:\\'\\(|:\"\\()', ' EMO_NEG ', text)\n",
        "\n",
        "    # remove special characters and punctuation.\n",
        "    text = re.sub(r'[^\\w\\s:()]+', '', text)\n",
        "\n",
        "    # remove all ascii\n",
        "    text = re.sub(r'[^\\x00-\\x7F]+', '', text)\n",
        "\n",
        "    # remove numbers\n",
        "    text = re.sub(r'\\d+', '', text)\n",
        "\n",
        "    # remove extra spaces\n",
        "    text = re.sub(r'\\s+', ' ', text).strip()\n",
        "\n",
        "    # remove stop words\n",
        "    text = ' '.join([lemmatizer.lemmatize(word) for word in text.split() if word not in stop_words])\n",
        "\n",
        "    words = text.split()\n",
        "\n",
        "    for word in words:\n",
        "        if (re.search(r'^[a-zA-Z][a-z0-9A-Z\\._]*$', word) is not None):\n",
        "            word = str(porter_stemmer.stem(word))\n",
        "            processed_tweet.append(word)\n",
        "\n",
        "    return ' '.join(processed_tweet)"
      ]
    },
    {
      "cell_type": "markdown",
      "id": "fde51922",
      "metadata": {
        "id": "fde51922"
      },
      "source": [
        "##### 6. Apply preprocessing to all tweets"
      ]
    },
    {
      "cell_type": "code",
      "execution_count": 8,
      "id": "0b01988b-41e7-4ad3-be13-dd287657ea14",
      "metadata": {
        "colab": {
          "base_uri": "https://localhost:8080/"
        },
        "id": "0b01988b-41e7-4ad3-be13-dd287657ea14",
        "outputId": "0703f478-b13c-4eaa-8124-dccf8ba92f33",
        "tags": []
      },
      "outputs": [
        {
          "name": "stdout",
          "output_type": "stream",
          "text": [
            "['exampl tweet preprocess', 'tweet dont eat food without punctuat not emo_po']\n"
          ]
        }
      ],
      "source": [
        "df_train['Cleaned_Tweet'] = df_train['Tweet'].apply(text_preprocessing)\n",
        "\n",
        "df_test = pd.read_csv(\"data/test_data.csv\")\n",
        "df_test['Cleaned_Tweet'] = df_test['Tweet'].apply(text_preprocessing)\n",
        "\n",
        "new_tweets = [\"Example tweet for preprocessing!\", \"rt @user tweet, dont eat food without punctuation and a ❤️ not 123 :) !!.\"]\n",
        "cleaned_new_tweets = [text_preprocessing(tweet) for tweet in new_tweets]\n",
        "print(cleaned_new_tweets)"
      ]
    },
    {
      "cell_type": "code",
      "execution_count": 9,
      "id": "e3a4c4a3",
      "metadata": {
        "colab": {
          "base_uri": "https://localhost:8080/"
        },
        "id": "e3a4c4a3",
        "outputId": "4d4971d4-0688-4675-cafa-e3655d797f94"
      },
      "outputs": [
        {
          "data": {
            "text/plain": [
              "0    not squash cockroach continu thrive need prose...\n",
              "1    mission suppo reversemigr bharat best amp divy...\n",
              "2    avocado day keep gut microb happi studi show s...\n",
              "3       life expens emo_neg pumpkin not even good time\n",
              "4                                   infinit beauti omg\n",
              "Name: Cleaned_Tweet, dtype: object"
            ]
          },
          "execution_count": 9,
          "metadata": {},
          "output_type": "execute_result"
        }
      ],
      "source": [
        "df_test['Cleaned_Tweet'].head()"
      ]
    },
    {
      "cell_type": "markdown",
      "id": "fba16ece",
      "metadata": {
        "id": "fba16ece"
      },
      "source": [
        "##### 7. Splitting data to training (80%) and validation dataset  (20%)"
      ]
    },
    {
      "cell_type": "code",
      "execution_count": 10,
      "id": "54245ee2-4684-4b60-8d83-365c3725ef5e",
      "metadata": {
        "id": "54245ee2-4684-4b60-8d83-365c3725ef5e",
        "tags": []
      },
      "outputs": [],
      "source": [
        "X = df_train['Cleaned_Tweet']\n",
        "y = df_train['Sentiment']\n",
        "X_train, X_val, y_train, y_val = train_test_split(X, y, test_size=0.2, random_state=42)"
      ]
    },
    {
      "cell_type": "markdown",
      "id": "c60d7a8d",
      "metadata": {
        "id": "c60d7a8d"
      },
      "source": [
        "##### 8. Vectorizing preprocessed tweets (Training and Validation ) using Binary Bag of words BBoW"
      ]
    },
    {
      "cell_type": "code",
      "execution_count": 11,
      "id": "0567e8ff-dce6-4072-b672-52e0d1faaddf",
      "metadata": {
        "id": "0567e8ff-dce6-4072-b672-52e0d1faaddf",
        "tags": []
      },
      "outputs": [],
      "source": [
        "vectorizer_bbow = CountVectorizer(binary=True)\n",
        "X_train_bbow = vectorizer_bbow.fit_transform(X_train)\n",
        "X_val_bbow = vectorizer_bbow.transform(X_val)"
      ]
    },
    {
      "cell_type": "markdown",
      "id": "df1dbe86",
      "metadata": {
        "id": "df1dbe86"
      },
      "source": [
        "##### 9. Vectorizing preprocessed tweets (Training and Validation ) using TF-IDF"
      ]
    },
    {
      "cell_type": "code",
      "execution_count": 12,
      "id": "d31b0360-0c16-476f-93d1-16029347eec9",
      "metadata": {
        "id": "d31b0360-0c16-476f-93d1-16029347eec9",
        "tags": []
      },
      "outputs": [],
      "source": [
        "vectorizer_tfidf = TfidfVectorizer()\n",
        "X_train_tfidf = vectorizer_tfidf.fit_transform(X_train)\n",
        "X_val_tfidf = vectorizer_tfidf.transform(X_val)"
      ]
    },
    {
      "cell_type": "markdown",
      "id": "63bc0c55",
      "metadata": {
        "id": "63bc0c55"
      },
      "source": [
        "##### 10. Use the Following ML Models\n",
        "- Logistic Regression\n",
        "- Decision Trees\n",
        "- KNN\n",
        "- Random Forest\n",
        "- XG Boost\n",
        "- SVC"
      ]
    },
    {
      "cell_type": "code",
      "execution_count": 13,
      "id": "4f65c9d2-dfcb-4412-a0cf-a5994af58011",
      "metadata": {
        "id": "4f65c9d2-dfcb-4412-a0cf-a5994af58011",
        "tags": []
      },
      "outputs": [],
      "source": [
        "# Logistic Regression\n",
        "model_lr = LogisticRegression(\n",
        "    penalty='l2',\n",
        "    C=80,\n",
        "    solver='saga',\n",
        "    max_iter=1000,\n",
        "    class_weight='balanced'\n",
        ")\n",
        "model_lr.fit(X_train_bbow, y_train)\n",
        "pred_lr_bbow_train = model_lr.predict(X_train_bbow)\n",
        "pred_lr_bbow_val = model_lr.predict(X_val_bbow)\n",
        "accuracy_lr_bbow_train = accuracy_score(y_train, pred_lr_bbow_train)\n",
        "accuracy_lr_bbow_val = accuracy_score(y_val, pred_lr_bbow_val)\n",
        "\n",
        "model_lr.fit(X_train_tfidf, y_train)\n",
        "pred_lr_tfidf_train = model_lr.predict(X_train_tfidf)\n",
        "pred_lr_tfidf_val = model_lr.predict(X_val_tfidf)\n",
        "accuracy_lr_tfidf_train = accuracy_score(y_train, pred_lr_tfidf_train)\n",
        "accuracy_lr_tfidf_val = accuracy_score(y_val, pred_lr_tfidf_val)"
      ]
    },
    {
      "cell_type": "code",
      "execution_count": 14,
      "id": "a288cd88-7ba0-427e-ba91-578a5f65378d",
      "metadata": {
        "id": "a288cd88-7ba0-427e-ba91-578a5f65378d",
        "tags": []
      },
      "outputs": [],
      "source": [
        "# Decision Trees\n",
        "model_dt = DecisionTreeClassifier()\n",
        "model_dt.fit(X_train_bbow, y_train)\n",
        "pred_dt_bbow_train = model_dt.predict(X_train_bbow)\n",
        "pred_dt_bbow_val = model_dt.predict(X_val_bbow)\n",
        "accuracy_dt_bbow_train = accuracy_score(y_train, pred_dt_bbow_train)\n",
        "accuracy_dt_bbow_val = accuracy_score(y_val, pred_dt_bbow_val)\n",
        "\n",
        "model_dt.fit(X_train_tfidf, y_train)\n",
        "pred_dt_tfidf_train = model_dt.predict(X_train_tfidf)\n",
        "pred_dt_tfidf_val = model_dt.predict(X_val_tfidf)\n",
        "accuracy_dt_tfidf_train = accuracy_score(y_train, pred_dt_tfidf_train)\n",
        "accuracy_dt_tfidf_val = accuracy_score(y_val, pred_dt_tfidf_val)"
      ]
    },
    {
      "cell_type": "code",
      "execution_count": 15,
      "id": "26738741-9887-4134-ae7e-54bd56442d00",
      "metadata": {
        "id": "26738741-9887-4134-ae7e-54bd56442d00",
        "tags": []
      },
      "outputs": [],
      "source": [
        "# K-Nearest Neighbors (KNN)\n",
        "model_knn = KNeighborsClassifier()\n",
        "model_knn.fit(X_train_bbow, y_train)\n",
        "pred_knn_bbow_train = model_knn.predict(X_train_bbow)\n",
        "pred_knn_bbow_val = model_knn.predict(X_val_bbow)\n",
        "accuracy_knn_bbow_train = accuracy_score(y_train, pred_knn_bbow_train)\n",
        "accuracy_knn_bbow_val = accuracy_score(y_val, pred_knn_bbow_val)\n",
        "\n",
        "model_knn.fit(X_train_tfidf, y_train)\n",
        "pred_knn_tfidf_train = model_knn.predict(X_train_tfidf)\n",
        "pred_knn_tfidf_val = model_knn.predict(X_val_tfidf)\n",
        "accuracy_knn_tfidf_train = accuracy_score(y_train, pred_knn_tfidf_train)\n",
        "accuracy_knn_tfidf_val = accuracy_score(y_val, pred_knn_tfidf_val)"
      ]
    },
    {
      "cell_type": "code",
      "execution_count": 16,
      "id": "04609df3",
      "metadata": {
        "id": "04609df3"
      },
      "outputs": [],
      "source": [
        "# random forest\n",
        "model_rf = RandomForestClassifier(\n",
        "    n_estimators=100,\n",
        "    n_jobs=2,\n",
        "    random_state=42,\n",
        "    max_depth=None,\n",
        "    min_samples_split=5,\n",
        "    min_samples_leaf=1,\n",
        "    max_features=\"log2\",\n",
        "    class_weight='balanced'\n",
        ")\n",
        "\n",
        "model_rf.fit(X_train_bbow, y_train)\n",
        "pred_rf_bbow_train = model_rf.predict(X_train_bbow)\n",
        "pred_rf_bbow_val = model_rf.predict(X_val_bbow)\n",
        "accuracy_rf_bbow_train = accuracy_score(y_train, pred_rf_bbow_train)\n",
        "accuracy_rf_bbow_val = accuracy_score(y_val, pred_rf_bbow_val)\n",
        "\n",
        "model_rf.fit(X_train_tfidf, y_train)\n",
        "pred_rf_tfidf_train = model_rf.predict(X_train_tfidf)\n",
        "pred_rf_tfidf_val = model_rf.predict(X_val_tfidf)\n",
        "accuracy_rf_tfidf_train = accuracy_score(y_train, pred_rf_tfidf_train)\n",
        "accuracy_rf_tfidf_val = accuracy_score(y_val, pred_rf_tfidf_val)"
      ]
    },
    {
      "cell_type": "code",
      "execution_count": 17,
      "id": "3c9bade3",
      "metadata": {
        "id": "3c9bade3"
      },
      "outputs": [],
      "source": [
        "# xg boost\n",
        "model_xg = XGBClassifier(max_depth=25, n_estimators=400)\n",
        "model_xg.fit(X_train_bbow, y_train)\n",
        "pred_xg_bbow_train = model_xg.predict(X_train_bbow)\n",
        "pred_xg_bbow_val = model_xg.predict(X_val_bbow)\n",
        "accuracy_xg_bbow_train = accuracy_score(y_train, pred_xg_bbow_train)\n",
        "accuracy_xg_bbow_val = accuracy_score(y_val, pred_xg_bbow_val)\n",
        "\n",
        "model_xg.fit(X_train_tfidf, y_train)\n",
        "pred_xg_tfidf_train = model_xg.predict(X_train_tfidf)\n",
        "pred_xg_tfidf_val = model_xg.predict(X_val_tfidf)\n",
        "accuracy_xg_tfidf_train = accuracy_score(y_train, pred_xg_tfidf_train)\n",
        "accuracy_xg_tfidf_val = accuracy_score(y_val, pred_xg_tfidf_val)"
      ]
    },
    {
      "cell_type": "code",
      "execution_count": 18,
      "id": "f92b6de6",
      "metadata": {
        "id": "f92b6de6"
      },
      "outputs": [],
      "source": [
        "# svc\n",
        "model_svc = SVC(kernel='linear', gamma='auto', class_weight='balanced', probability=True)\n",
        "model_svc.fit(X_train_bbow, y_train)\n",
        "pred_svc_bbow_train = model_svc.predict(X_train_bbow)\n",
        "pred_svc_bbow_val = model_svc.predict(X_val_bbow)\n",
        "accuracy_svc_bbow_train = accuracy_score(y_train, pred_svc_bbow_train)\n",
        "accuracy_svc_bbow_val = accuracy_score(y_val, pred_svc_bbow_val)\n",
        "\n",
        "model_svc.fit(X_train_tfidf, y_train)\n",
        "pred_svc_tfidf_train = model_svc.predict(X_train_tfidf)\n",
        "pred_svc_tfidf_val = model_svc.predict(X_val_tfidf)\n",
        "accuracy_svc_tfidf_train = accuracy_score(y_train, pred_svc_tfidf_train)\n",
        "accuracy_svc_tfidf_val = accuracy_score(y_val, pred_svc_tfidf_val)"
      ]
    },
    {
      "cell_type": "markdown",
      "id": "9b696069",
      "metadata": {
        "id": "9b696069"
      },
      "source": [
        "##### 11.  Construct the Results dataframe with the accuracy for each model"
      ]
    },
    {
      "cell_type": "code",
      "execution_count": 19,
      "id": "96e5244c-16b6-4584-ab72-b80cf4cac0d7",
      "metadata": {
        "colab": {
          "base_uri": "https://localhost:8080/"
        },
        "id": "96e5244c-16b6-4584-ab72-b80cf4cac0d7",
        "outputId": "4280b687-9b75-4e44-de55-02d0f8975842"
      },
      "outputs": [
        {
          "name": "stdout",
          "output_type": "stream",
          "text": [
            "            Classifier  BBOW_Train  BBOW_Val  TF-IDF_Train  TF-IDF_Val\n",
            "0  Logistic Regression     0.99975     0.929       0.99950       0.932\n",
            "1                  KNN     0.78825     0.733       0.56200       0.582\n",
            "2       Decision Trees     0.99975     0.855       0.99975       0.845\n",
            "3        Random Forest     0.99975     0.913       0.99975       0.906\n",
            "4             XG Boost     0.99225     0.898       0.99700       0.893\n",
            "5                  SVC     0.99675     0.924       0.98700       0.934\n"
          ]
        }
      ],
      "source": [
        "df_result = pd.DataFrame({\n",
        "    'Classifier': ['Logistic Regression', 'KNN', 'Decision Trees', 'Random Forest', 'XG Boost', 'SVC'],\n",
        "    'BBOW_Train': [accuracy_lr_bbow_train, accuracy_knn_bbow_train, accuracy_dt_bbow_train, accuracy_rf_bbow_train, accuracy_xg_bbow_train, accuracy_svc_bbow_train],\n",
        "    'BBOW_Val': [accuracy_lr_bbow_val, accuracy_knn_bbow_val, accuracy_dt_bbow_val, accuracy_rf_bbow_val, accuracy_xg_bbow_val, accuracy_svc_bbow_val],\n",
        "    'TF-IDF_Train': [accuracy_lr_tfidf_train, accuracy_knn_tfidf_train, accuracy_dt_tfidf_train, accuracy_rf_tfidf_train, accuracy_xg_tfidf_train, accuracy_svc_tfidf_train],\n",
        "    'TF-IDF_Val': [accuracy_lr_tfidf_val, accuracy_knn_tfidf_val, accuracy_dt_tfidf_val, accuracy_rf_tfidf_val, accuracy_xg_tfidf_val, accuracy_svc_tfidf_val]\n",
        "})\n",
        "\n",
        "print(df_result)"
      ]
    },
    {
      "cell_type": "markdown",
      "id": "d55e72e1",
      "metadata": {
        "id": "d55e72e1"
      },
      "source": [
        "##### 12. Save the Results dataframe in \"models_accuracy.csv\" file"
      ]
    },
    {
      "cell_type": "code",
      "execution_count": 20,
      "id": "d8370dab-4c80-402a-8f61-f74c821f8c83",
      "metadata": {
        "id": "d8370dab-4c80-402a-8f61-f74c821f8c83"
      },
      "outputs": [],
      "source": [
        "df_result.to_csv(\"data/models_accuracy.csv\", index=False)"
      ]
    },
    {
      "cell_type": "markdown",
      "id": "6746a16c",
      "metadata": {
        "id": "6746a16c"
      },
      "source": [
        "##### 13. Select the best model in the table with the highest accuract, then use this model to predict a new tweet"
      ]
    },
    {
      "cell_type": "code",
      "execution_count": 21,
      "id": "66cc7d60-cfef-40a5-ad30-4ab1ce2a4b97",
      "metadata": {
        "colab": {
          "base_uri": "https://localhost:8080/"
        },
        "id": "66cc7d60-cfef-40a5-ad30-4ab1ce2a4b97",
        "outputId": "7698fd44-0433-40ac-ef3e-fdabd5e1c6c0"
      },
      "outputs": [
        {
          "name": "stdout",
          "output_type": "stream",
          "text": [
            "The best model is: SVC with TF-IDF having validation accuracy 0.93\n",
            "The predicted label for the new tweet is: 0\n"
          ]
        }
      ],
      "source": [
        "best_bbow_val = df_result['BBOW_Val'].max()\n",
        "best_tfidf_val = df_result['TF-IDF_Val'].max()\n",
        "\n",
        "if best_bbow_val > best_tfidf_val:\n",
        "    best_model = df_result.loc[df_result['BBOW_Val'].idxmax()]\n",
        "    best_vectorization = 'BBOW'\n",
        "else:\n",
        "    best_model = df_result.loc[df_result['TF-IDF_Val'].idxmax()]\n",
        "    best_vectorization = 'TF-IDF'\n",
        "\n",
        "print(f\"The best model is: {best_model['Classifier']} with {best_vectorization} having validation accuracy {max(best_bbow_val, best_tfidf_val):.2f}\")\n",
        "\n",
        "\n",
        "# choose best model\n",
        "if best_model['Classifier'] == 'Logistic Regression':\n",
        "    model_best = model_lr\n",
        "elif best_model['Classifier'] == 'KNN':\n",
        "    model_best = model_knn\n",
        "elif best_model['Classifier'] == 'Decision Trees':\n",
        "    model_best = model_dt\n",
        "elif best_model['Classifier'] == 'Random Forest':\n",
        "    model_best = model_rf\n",
        "elif best_model['Classifier'] == 'XG Boost':\n",
        "    model_best = model_xg\n",
        "elif best_model['Classifier'] == 'SVC':\n",
        "    model_best = model_svc\n",
        "\n",
        "if best_vectorization == 'BBOW':\n",
        "    model_best.fit(X_train_bbow, y_train)\n",
        "else:\n",
        "    model_best.fit(X_train_tfidf, y_train)\n",
        "\n",
        "#predict new tweet\n",
        "new_tweet = [\"Cucumber tastes so bad bro i hate it man\"]\n",
        "\n",
        "# Vectorize the new tweet\n",
        "if best_vectorization == 'BBOW':\n",
        "    new_tweet_vectorized = vectorizer_bbow.transform(new_tweet)\n",
        "else:\n",
        "    new_tweet_vectorized = vectorizer_tfidf.transform(new_tweet)\n",
        "\n",
        "new_tweet_prediction = model_best.predict(new_tweet_vectorized)\n",
        "print(f\"The predicted label for the new tweet is: {new_tweet_prediction[0]}\")"
      ]
    },
    {
      "cell_type": "markdown",
      "id": "238b3445",
      "metadata": {
        "id": "238b3445"
      },
      "source": [
        "## Now, we will use a Natural Language Processing Model with PyTorch to see how well it work"
      ]
    },
    {
      "cell_type": "markdown",
      "id": "16333d67",
      "metadata": {
        "id": "16333d67"
      },
      "source": [
        "##### 1. Load the training and testing data"
      ]
    },
    {
      "cell_type": "code",
      "execution_count": 22,
      "id": "2e283f31",
      "metadata": {
        "id": "2e283f31"
      },
      "outputs": [],
      "source": [
        "df_test = pd.read_csv(\"data/test_data.csv\")\n",
        "df_train = pd.read_csv(\"data/train_data.csv\")"
      ]
    },
    {
      "cell_type": "markdown",
      "id": "3b727c03",
      "metadata": {
        "id": "3b727c03"
      },
      "source": [
        "##### 2. Split the training data into 80% training and 20% validation"
      ]
    },
    {
      "cell_type": "code",
      "execution_count": 23,
      "id": "b0e0eeee",
      "metadata": {
        "id": "b0e0eeee"
      },
      "outputs": [],
      "source": [
        "# Here we do not clean/preproccess the tweets as our model works best on raw tweets without any preproccessing\n",
        "X = df_train['Tweet']\n",
        "y = df_train['Sentiment']\n",
        "X_train, X_val, y_train, y_val = train_test_split(X, y, test_size=0.2, random_state=42)"
      ]
    },
    {
      "cell_type": "markdown",
      "id": "HF-ntKByzshW",
      "metadata": {
        "id": "HF-ntKByzshW"
      },
      "source": [
        "##### 3. Create and train the PyTorch model"
      ]
    },
    {
      "cell_type": "code",
      "execution_count": 24,
      "id": "51685051",
      "metadata": {
        "colab": {
          "base_uri": "https://localhost:8080/",
          "height": 1000,
          "referenced_widgets": [
            "cc6d19e690654a09b6b14f11b16a56cf",
            "162af2350f1146b2888ccc9e8326fb90",
            "2e8ed0e60ddc4b8f9673f967f3f5f702",
            "1de796696a1b4716af7eea196c405ae6",
            "942f1b1a134148229c0678ef1f93e2ac",
            "d50326494b2a43529eb662cddc1dcdb3",
            "81afbc93e8f8492196de7480f9f40ef5",
            "05fada95cd634f259af531630c29909b",
            "4cb56a76b05e4174ade5d82d736821a7",
            "940961a2c1aa4a89acdcdb28c8ef6b6c",
            "8a15b00d2f7c45edbdedb730d1e8f191",
            "5f97e408c7d94d4d85653fa4c5f61404",
            "289da235fdb04677af74adb94f7c7247",
            "b8877393c2d645589b2f40b5a55cd9d8",
            "5061cd279e6b49b6ba85190c0b6d4c74",
            "af13186048664dbeb3020a31c4eee291",
            "9cabf33d464f4c25b0031bb185b9de58",
            "a9c03502bcc34b2585c8f2d3e514d4c1",
            "6338bc4a44d44629be3860fc1bb4dc4c",
            "26557718b1a541b1b8a3b3d1eb4dc4f1",
            "fe7473b1997141579203c7ddd85b0f3a",
            "f4ff060385e54a95b4b60bef3d91a90b",
            "7a938fa71f8e4a85aec2b44ee3f82144",
            "cab897855d7f42f698094b70fddfdbd0",
            "0cc5cdfc9ee5410ca28f6cbe9bb79fad",
            "91ac45040b074872b389b45d3521cd01",
            "b2e7ee61c72a4496a5870c99af02e40b",
            "1350221a5922475d9eb24281f11eba81",
            "bd650c6ce17048e4a9b6d25b187c997c",
            "17fd2ed333454896a2b5f501a320ae7a",
            "7a1cf06841c745c8a93ece70a36a9a98",
            "72beb699b99c42399289ca5f9158758c",
            "e8851c951fb248768ad072a619f9b614",
            "b67493923fca45c8bf4d920ce8dc1e36",
            "f029a205a5234adc94f9ab956dac00fc",
            "413c7175a436454695086f6c5e4c9bcc",
            "62ef24fe1fb0487a9dbaff9b8c2d12f6",
            "cbffea85f072421db31d091796a3dd6d",
            "34c2b30130d245668a8ed89d564a140b",
            "69527000a41c4e6abec4961ab1d07090",
            "64c937cea6e24e85b363bef09cf3330d",
            "adad3497f2c549a5847ba0df038c5c64",
            "acb7d553039049cbb1a1f7b29cad5896",
            "8a43d8591d594165bb7c5088b71dde3b",
            "246e237bb7184275ad419cf539a1e0de",
            "103437f6536742ab81dde50ea0ecfb19",
            "e4d0ea6adbca419abae1c2e91ed68322",
            "bbf640b56c1b4827acf3e404d32630f2",
            "eaa2f3d16f3540bbb27c3be8d48e7661",
            "e94ab3793d1b411d962354e6d6b765a2",
            "f266d661a4f7475784e40883d3cdf356",
            "c2ac94673a544e14bd4fec065ae241cf",
            "acb509d417984236ba4c014bb539074f",
            "e536fbf1a9d74d8393e7f815cb046ab0",
            "cd5e2d9e1ce947e9b1d0a2294c481eb3",
            "74cfe1a37c1248adbbcfeb0cf6596d07",
            "ea93fb6f33cf465cbe6b840aeebdd8ba",
            "73ff86a190c9457780510e047e26c1ae",
            "ae843fe5e3be4b958d74fa3757698a1c",
            "052ebfaa6a794b6997870f3c957c523a",
            "ea698dd7142a4293b110b8cc9775baee",
            "0741e08645c8481cb7288159441c7e6d",
            "0958836d4aca42deb29365166161b935",
            "dcb2bcff49a0496c94493517d8fd1026",
            "2fcfcdff94d247ae8469539c9bae6e96",
            "66f487eac3a2466db52c2065474019e6"
          ]
        },
        "id": "51685051",
        "outputId": "5f97a468-6b48-462f-b5ef-38b2967a49f2"
      },
      "outputs": [
        {
          "name": "stderr",
          "output_type": "stream",
          "text": [
            "/usr/local/lib/python3.10/dist-packages/huggingface_hub/utils/_token.py:89: UserWarning: \n",
            "The secret `HF_TOKEN` does not exist in your Colab secrets.\n",
            "To authenticate with the Hugging Face Hub, create a token in your settings tab (https://huggingface.co/settings/tokens), set it as secret in your Google Colab and restart your session.\n",
            "You will be able to reuse this secret in all of your notebooks.\n",
            "Please note that authentication is recommended but still optional to access public models or datasets.\n",
            "  warnings.warn(\n"
          ]
        },
        {
          "data": {
            "application/vnd.jupyter.widget-view+json": {
              "model_id": "cc6d19e690654a09b6b14f11b16a56cf",
              "version_major": 2,
              "version_minor": 0
            },
            "text/plain": [
              "tokenizer_config.json:   0%|          | 0.00/25.0 [00:00<?, ?B/s]"
            ]
          },
          "metadata": {},
          "output_type": "display_data"
        },
        {
          "name": "stderr",
          "output_type": "stream",
          "text": [
            "/usr/local/lib/python3.10/dist-packages/huggingface_hub/file_download.py:1132: FutureWarning: `resume_download` is deprecated and will be removed in version 1.0.0. Downloads always resume when possible. If you want to force a new download, use `force_download=True`.\n",
            "  warnings.warn(\n"
          ]
        },
        {
          "data": {
            "application/vnd.jupyter.widget-view+json": {
              "model_id": "5f97e408c7d94d4d85653fa4c5f61404",
              "version_major": 2,
              "version_minor": 0
            },
            "text/plain": [
              "config.json:   0%|          | 0.00/481 [00:00<?, ?B/s]"
            ]
          },
          "metadata": {},
          "output_type": "display_data"
        },
        {
          "data": {
            "application/vnd.jupyter.widget-view+json": {
              "model_id": "7a938fa71f8e4a85aec2b44ee3f82144",
              "version_major": 2,
              "version_minor": 0
            },
            "text/plain": [
              "vocab.json:   0%|          | 0.00/899k [00:00<?, ?B/s]"
            ]
          },
          "metadata": {},
          "output_type": "display_data"
        },
        {
          "data": {
            "application/vnd.jupyter.widget-view+json": {
              "model_id": "b67493923fca45c8bf4d920ce8dc1e36",
              "version_major": 2,
              "version_minor": 0
            },
            "text/plain": [
              "merges.txt:   0%|          | 0.00/456k [00:00<?, ?B/s]"
            ]
          },
          "metadata": {},
          "output_type": "display_data"
        },
        {
          "data": {
            "application/vnd.jupyter.widget-view+json": {
              "model_id": "246e237bb7184275ad419cf539a1e0de",
              "version_major": 2,
              "version_minor": 0
            },
            "text/plain": [
              "tokenizer.json:   0%|          | 0.00/1.36M [00:00<?, ?B/s]"
            ]
          },
          "metadata": {},
          "output_type": "display_data"
        },
        {
          "data": {
            "application/vnd.jupyter.widget-view+json": {
              "model_id": "74cfe1a37c1248adbbcfeb0cf6596d07",
              "version_major": 2,
              "version_minor": 0
            },
            "text/plain": [
              "model.safetensors:   0%|          | 0.00/499M [00:00<?, ?B/s]"
            ]
          },
          "metadata": {},
          "output_type": "display_data"
        },
        {
          "name": "stderr",
          "output_type": "stream",
          "text": [
            "Some weights of RobertaForSequenceClassification were not initialized from the model checkpoint at roberta-base and are newly initialized: ['classifier.dense.bias', 'classifier.dense.weight', 'classifier.out_proj.bias', 'classifier.out_proj.weight']\n",
            "You should probably TRAIN this model on a down-stream task to be able to use it for predictions and inference.\n",
            "/usr/local/lib/python3.10/dist-packages/torch/utils/data/dataloader.py:558: UserWarning: This DataLoader will create 4 worker processes in total. Our suggested max number of worker in current system is 2, which is smaller than what this DataLoader is going to create. Please be aware that excessive worker creation might get DataLoader running slow or even freeze, lower the worker number to avoid potential slowness/freeze if necessary.\n",
            "  warnings.warn(_create_warning_msg(\n",
            "/usr/local/lib/python3.10/dist-packages/transformers/optimization.py:588: FutureWarning: This implementation of AdamW is deprecated and will be removed in a future version. Use the PyTorch implementation torch.optim.AdamW instead, or set `no_deprecation_warning=True` to disable this warning\n",
            "  warnings.warn(\n",
            "Epoch 1/3: 100%|██████████| 63/63 [01:13<00:00,  1.17s/it]\n",
            "Validation: 100%|██████████| 16/16 [00:06<00:00,  2.52it/s]\n"
          ]
        },
        {
          "name": "stdout",
          "output_type": "stream",
          "text": [
            "Epoch 1/3\n",
            "Train Loss: 0.2635\n",
            "Val Loss: 0.0997\n",
            "Val Accuracy: 0.9720\n",
            "              precision    recall  f1-score   support\n",
            "\n",
            "           0       0.94      1.00      0.97       439\n",
            "           1       1.00      0.95      0.97       561\n",
            "\n",
            "    accuracy                           0.97      1000\n",
            "   macro avg       0.97      0.97      0.97      1000\n",
            "weighted avg       0.97      0.97      0.97      1000\n",
            "\n"
          ]
        },
        {
          "name": "stderr",
          "output_type": "stream",
          "text": [
            "\rEpoch 2/3:   0%|          | 0/63 [00:00<?, ?it/s]/usr/local/lib/python3.10/dist-packages/torch/utils/data/dataloader.py:558: UserWarning: This DataLoader will create 4 worker processes in total. Our suggested max number of worker in current system is 2, which is smaller than what this DataLoader is going to create. Please be aware that excessive worker creation might get DataLoader running slow or even freeze, lower the worker number to avoid potential slowness/freeze if necessary.\n",
            "  warnings.warn(_create_warning_msg(\n",
            "Epoch 2/3: 100%|██████████| 63/63 [01:15<00:00,  1.20s/it]\n",
            "Validation: 100%|██████████| 16/16 [00:06<00:00,  2.37it/s]\n"
          ]
        },
        {
          "name": "stdout",
          "output_type": "stream",
          "text": [
            "Epoch 2/3\n",
            "Train Loss: 0.0617\n",
            "Val Loss: 0.0375\n",
            "Val Accuracy: 0.9870\n",
            "              precision    recall  f1-score   support\n",
            "\n",
            "           0       0.98      1.00      0.99       439\n",
            "           1       1.00      0.98      0.99       561\n",
            "\n",
            "    accuracy                           0.99      1000\n",
            "   macro avg       0.99      0.99      0.99      1000\n",
            "weighted avg       0.99      0.99      0.99      1000\n",
            "\n"
          ]
        },
        {
          "name": "stderr",
          "output_type": "stream",
          "text": [
            "\rEpoch 3/3:   0%|          | 0/63 [00:00<?, ?it/s]/usr/local/lib/python3.10/dist-packages/torch/utils/data/dataloader.py:558: UserWarning: This DataLoader will create 4 worker processes in total. Our suggested max number of worker in current system is 2, which is smaller than what this DataLoader is going to create. Please be aware that excessive worker creation might get DataLoader running slow or even freeze, lower the worker number to avoid potential slowness/freeze if necessary.\n",
            "  warnings.warn(_create_warning_msg(\n",
            "Epoch 3/3: 100%|██████████| 63/63 [01:18<00:00,  1.24s/it]\n",
            "Validation: 100%|██████████| 16/16 [00:06<00:00,  2.34it/s]\n"
          ]
        },
        {
          "name": "stdout",
          "output_type": "stream",
          "text": [
            "Epoch 3/3\n",
            "Train Loss: 0.0251\n",
            "Val Loss: 0.0497\n",
            "Val Accuracy: 0.9870\n",
            "              precision    recall  f1-score   support\n",
            "\n",
            "           0       0.98      0.99      0.99       439\n",
            "           1       0.99      0.99      0.99       561\n",
            "\n",
            "    accuracy                           0.99      1000\n",
            "   macro avg       0.99      0.99      0.99      1000\n",
            "weighted avg       0.99      0.99      0.99      1000\n",
            "\n"
          ]
        },
        {
          "name": "stderr",
          "output_type": "stream",
          "text": [
            "\rPredicting:   0%|          | 0/16 [00:00<?, ?it/s]/usr/local/lib/python3.10/dist-packages/torch/utils/data/dataloader.py:558: UserWarning: This DataLoader will create 4 worker processes in total. Our suggested max number of worker in current system is 2, which is smaller than what this DataLoader is going to create. Please be aware that excessive worker creation might get DataLoader running slow or even freeze, lower the worker number to avoid potential slowness/freeze if necessary.\n",
            "  warnings.warn(_create_warning_msg(\n",
            "Predicting: 100%|██████████| 16/16 [00:06<00:00,  2.31it/s]"
          ]
        },
        {
          "name": "stdout",
          "output_type": "stream",
          "text": [
            "Final Validation Accuracy: 0.9870\n",
            "              precision    recall  f1-score   support\n",
            "\n",
            "           0       0.98      0.99      0.99       439\n",
            "           1       0.99      0.99      0.99       561\n",
            "\n",
            "    accuracy                           0.99      1000\n",
            "   macro avg       0.99      0.99      0.99      1000\n",
            "weighted avg       0.99      0.99      0.99      1000\n",
            "\n"
          ]
        },
        {
          "name": "stderr",
          "output_type": "stream",
          "text": [
            "\n"
          ]
        }
      ],
      "source": [
        "# Set the device used as GPU if available, otherwise use CPU\n",
        "device = torch.device(\"cuda\" if torch.cuda.is_available() else \"cpu\")\n",
        "\n",
        "# Load pre-trained tokenizer and model called 'roberta-base'.\n",
        "# We chose roberta-base over bert as it is more trained on tweets and has higher accuracy\n",
        "tokenizer = AutoTokenizer.from_pretrained('roberta-base')\n",
        "model = AutoModelForSequenceClassification.from_pretrained('roberta-base', num_labels=2)\n",
        "# Move the model to the specified device (GPU cuda)\n",
        "model.to(device)\n",
        "\n",
        "# Tokenize and encode input sequences\n",
        "def encode_sequences(texts, max_length=128):\n",
        "    return tokenizer.batch_encode_plus(\n",
        "        texts,\n",
        "        max_length=max_length,\n",
        "        padding='max_length',\n",
        "        truncation=True,\n",
        "        return_tensors=\"pt\"\n",
        "    )\n",
        "\n",
        "# Encode the training and validation data\n",
        "X_train_encoded = encode_sequences(X_train.tolist())\n",
        "X_val_encoded = encode_sequences(X_val.tolist())\n",
        "\n",
        "# Convert labels to PyTorch tensors\n",
        "y_train = torch.tensor(y_train.tolist())\n",
        "y_val = torch.tensor(y_val.tolist())\n",
        "\n",
        "# Create TensorDatasets for training and validation data\n",
        "train_dataset = TensorDataset(X_train_encoded['input_ids'], X_train_encoded['attention_mask'], y_train)\n",
        "train_loader = DataLoader(train_dataset, batch_size=64, shuffle=True, num_workers=4, pin_memory=True)\n",
        "\n",
        "# Create DataLoaders for faster batching and parallelization\n",
        "val_dataset = TensorDataset(X_val_encoded['input_ids'], X_val_encoded['attention_mask'], y_val)\n",
        "val_loader = DataLoader(val_dataset, batch_size=64, shuffle=False, num_workers=4, pin_memory=True)\n",
        "\n",
        "# Training function\n",
        "def train(model, train_loader, val_loader, epochs):\n",
        "    # Calculate total training steps for the learning rate scheduler\n",
        "    total_steps = len(train_loader) * epochs\n",
        "\n",
        "    # Initialize the optimizer and learning rate scheduler (which increases/decreases based on accuracy after each epoch)\n",
        "    optimizer = AdamW(model.parameters(), lr=3e-5, weight_decay=0.01)\n",
        "    scheduler = get_linear_schedule_with_warmup(optimizer, num_warmup_steps=0, num_training_steps=total_steps)\n",
        "\n",
        "    for epoch in range(epochs):\n",
        "        # Set model to training mode\n",
        "        model.train()\n",
        "        train_loss = 0\n",
        "\n",
        "        # Training loop\n",
        "        # We are using the library called tqdm to show us progress of each epoch so we know how long we have to wait for\n",
        "        for batch in tqdm(train_loader, desc=f\"Epoch {epoch+1}/{epochs}\"):\n",
        "            # Move the batch to device and unpack\n",
        "            input_ids, attention_mask, labels = [b.to(device) for b in batch]\n",
        "\n",
        "            # Clear gradients\n",
        "            optimizer.zero_grad()\n",
        "\n",
        "            # Forward pass\n",
        "            outputs = model(input_ids, attention_mask=attention_mask, labels=labels)\n",
        "            loss = outputs.loss\n",
        "\n",
        "            # Backward pass\n",
        "            loss.backward()\n",
        "\n",
        "            # Clip gradients to prevent exploding gradients and shorter time\n",
        "            torch.nn.utils.clip_grad_norm_(model.parameters(), max_norm=1.0)\n",
        "\n",
        "            # Update weights\n",
        "            optimizer.step()\n",
        "\n",
        "            # Update the learning rate\n",
        "            scheduler.step()\n",
        "\n",
        "            train_loss += loss.item()\n",
        "\n",
        "        # Validation loop\n",
        "        model.eval() # Set model to evaluation mode\n",
        "        val_loss = 0\n",
        "        predictions, true_labels = [], []\n",
        "\n",
        "        with torch.no_grad(): # Here we disabled gradient calculation for validation so it can run faster\n",
        "            for batch in tqdm(val_loader, desc=\"Validation\"):\n",
        "                input_ids, attention_mask, labels = [b.to(device) for b in batch]\n",
        "\n",
        "                # Forward pass\n",
        "                outputs = model(input_ids, attention_mask=attention_mask, labels=labels)\n",
        "                loss = outputs.loss\n",
        "                val_loss += loss.item()\n",
        "\n",
        "                # Get predictions\n",
        "                logits = outputs.logits\n",
        "                predictions.extend(torch.argmax(logits, dim=1).cpu().numpy())\n",
        "                true_labels.extend(labels.cpu().numpy())\n",
        "\n",
        "        # Here we calculate the average losses\n",
        "        train_loss /= len(train_loader)\n",
        "        val_loss /= len(val_loader)\n",
        "\n",
        "        # Calculate accuracy\n",
        "        accuracy = accuracy_score(true_labels, predictions)\n",
        "\n",
        "        # Print this epoch's results\n",
        "        print(f\"Epoch {epoch+1}/{epochs}\")\n",
        "        print(f\"Train Loss: {train_loss:.4f}\")\n",
        "        print(f\"Val Loss: {val_loss:.4f}\")\n",
        "        print(f\"Val Accuracy: {accuracy:.4f}\")\n",
        "        print(classification_report(true_labels, predictions))\n",
        "\n",
        "# Train the model\n",
        "train(model, train_loader, val_loader, epochs=3)\n",
        "\n",
        "# Function we defined to get predictions to ensure that no gradients are calculated during prediction to speed up inference\n",
        "@torch.no_grad()\n",
        "def get_predictions(model, dataloader):\n",
        "    model.eval() # set model to evaluation mode\n",
        "    predictions = []\n",
        "    for batch in tqdm(dataloader, desc=\"Predicting\"):\n",
        "        input_ids, attention_mask, _ = [b.to(device) for b in batch]\n",
        "        outputs = model(input_ids, attention_mask=attention_mask)\n",
        "        logits = outputs.logits\n",
        "        predictions.extend(torch.argmax(logits, dim=1).cpu().numpy())\n",
        "    return predictions\n",
        "\n",
        "# Get predictions for validation set\n",
        "val_predictions = get_predictions(model, val_loader)\n",
        "\n",
        "# Print final validation accuracy and classification report\n",
        "val_accuracy = accuracy_score(y_val, val_predictions)\n",
        "print(f\"Final Validation Accuracy: {val_accuracy:.4f}\")\n",
        "print(classification_report(y_val, val_predictions))"
      ]
    },
    {
      "cell_type": "markdown",
      "id": "LcBT7Th1z-va",
      "metadata": {
        "id": "LcBT7Th1z-va"
      },
      "source": [
        "##### 4. Now, we will run the model on our testing data and find out the sentiment for each tweet"
      ]
    },
    {
      "cell_type": "code",
      "execution_count": 25,
      "id": "5fac94c1",
      "metadata": {
        "colab": {
          "base_uri": "https://localhost:8080/"
        },
        "id": "5fac94c1",
        "outputId": "d990f30a-d4cd-48f4-89d8-846c0ec58454"
      },
      "outputs": [
        {
          "name": "stderr",
          "output_type": "stream",
          "text": [
            "/usr/local/lib/python3.10/dist-packages/torch/utils/data/dataloader.py:558: UserWarning: This DataLoader will create 4 worker processes in total. Our suggested max number of worker in current system is 2, which is smaller than what this DataLoader is going to create. Please be aware that excessive worker creation might get DataLoader running slow or even freeze, lower the worker number to avoid potential slowness/freeze if necessary.\n",
            "  warnings.warn(_create_warning_msg(\n",
            "Predicting: 100%|██████████| 16/16 [00:06<00:00,  2.30it/s]\n"
          ]
        }
      ],
      "source": [
        "#  Prepare the test data (we use raw tweets without preprocessing as the accuracy rate is higher on this model)\n",
        "test_encoded = encode_sequences(df_test['Tweet'].tolist())\n",
        "test_dataset = TensorDataset(test_encoded['input_ids'], test_encoded['attention_mask'], torch.zeros(len(df_test)))\n",
        "test_loader = DataLoader(test_dataset, batch_size=64, shuffle=False, num_workers=4, pin_memory=True)\n",
        "\n",
        "# Get predictions for test data\n",
        "test_predictions = get_predictions(model, test_loader)\n",
        "\n",
        "# Create final dataframe\n",
        "submission = pd.DataFrame({\n",
        "    'Tweet_ID': df_test['Tweet_ID'],\n",
        "    'Sentiment': test_predictions\n",
        "})\n",
        "\n",
        "# save final predictions to csv file\n",
        "submission.to_csv('data/submission_roberta.csv', index=False)"
      ]
    },
    {
      "cell_type": "markdown",
      "id": "m73WJ3vn0TUE",
      "metadata": {
        "id": "m73WJ3vn0TUE"
      },
      "source": [
        "## Now we are done. The sentiments are saved in the `submission_roberta.csv` file.\n",
        "## This was a Kaggle Competition, and we have ended up in 1st place with a 99% accuracy."
      ]
    }
  ],
  "metadata": {
    "accelerator": "GPU",
    "colab": {
      "gpuType": "T4",
      "provenance": []
    },
    "kernelspec": {
      "display_name": "Python 3",
      "name": "python3"
    },
    "language_info": {
      "codemirror_mode": {
        "name": "ipython",
        "version": 3
      },
      "file_extension": ".py",
      "mimetype": "text/x-python",
      "name": "python",
      "nbconvert_exporter": "python",
      "pygments_lexer": "ipython3",
      "version": "3.11.5"
    },
    "widgets": {
      "application/vnd.jupyter.widget-state+json": {
        "052ebfaa6a794b6997870f3c957c523a": {
          "model_module": "@jupyter-widgets/base",
          "model_module_version": "1.2.0",
          "model_name": "LayoutModel",
          "state": {
            "_model_module": "@jupyter-widgets/base",
            "_model_module_version": "1.2.0",
            "_model_name": "LayoutModel",
            "_view_count": null,
            "_view_module": "@jupyter-widgets/base",
            "_view_module_version": "1.2.0",
            "_view_name": "LayoutView",
            "align_content": null,
            "align_items": null,
            "align_self": null,
            "border": null,
            "bottom": null,
            "display": null,
            "flex": null,
            "flex_flow": null,
            "grid_area": null,
            "grid_auto_columns": null,
            "grid_auto_flow": null,
            "grid_auto_rows": null,
            "grid_column": null,
            "grid_gap": null,
            "grid_row": null,
            "grid_template_areas": null,
            "grid_template_columns": null,
            "grid_template_rows": null,
            "height": null,
            "justify_content": null,
            "justify_items": null,
            "left": null,
            "margin": null,
            "max_height": null,
            "max_width": null,
            "min_height": null,
            "min_width": null,
            "object_fit": null,
            "object_position": null,
            "order": null,
            "overflow": null,
            "overflow_x": null,
            "overflow_y": null,
            "padding": null,
            "right": null,
            "top": null,
            "visibility": null,
            "width": null
          }
        },
        "05fada95cd634f259af531630c29909b": {
          "model_module": "@jupyter-widgets/base",
          "model_module_version": "1.2.0",
          "model_name": "LayoutModel",
          "state": {
            "_model_module": "@jupyter-widgets/base",
            "_model_module_version": "1.2.0",
            "_model_name": "LayoutModel",
            "_view_count": null,
            "_view_module": "@jupyter-widgets/base",
            "_view_module_version": "1.2.0",
            "_view_name": "LayoutView",
            "align_content": null,
            "align_items": null,
            "align_self": null,
            "border": null,
            "bottom": null,
            "display": null,
            "flex": null,
            "flex_flow": null,
            "grid_area": null,
            "grid_auto_columns": null,
            "grid_auto_flow": null,
            "grid_auto_rows": null,
            "grid_column": null,
            "grid_gap": null,
            "grid_row": null,
            "grid_template_areas": null,
            "grid_template_columns": null,
            "grid_template_rows": null,
            "height": null,
            "justify_content": null,
            "justify_items": null,
            "left": null,
            "margin": null,
            "max_height": null,
            "max_width": null,
            "min_height": null,
            "min_width": null,
            "object_fit": null,
            "object_position": null,
            "order": null,
            "overflow": null,
            "overflow_x": null,
            "overflow_y": null,
            "padding": null,
            "right": null,
            "top": null,
            "visibility": null,
            "width": null
          }
        },
        "0741e08645c8481cb7288159441c7e6d": {
          "model_module": "@jupyter-widgets/controls",
          "model_module_version": "1.5.0",
          "model_name": "DescriptionStyleModel",
          "state": {
            "_model_module": "@jupyter-widgets/controls",
            "_model_module_version": "1.5.0",
            "_model_name": "DescriptionStyleModel",
            "_view_count": null,
            "_view_module": "@jupyter-widgets/base",
            "_view_module_version": "1.2.0",
            "_view_name": "StyleView",
            "description_width": ""
          }
        },
        "0958836d4aca42deb29365166161b935": {
          "model_module": "@jupyter-widgets/base",
          "model_module_version": "1.2.0",
          "model_name": "LayoutModel",
          "state": {
            "_model_module": "@jupyter-widgets/base",
            "_model_module_version": "1.2.0",
            "_model_name": "LayoutModel",
            "_view_count": null,
            "_view_module": "@jupyter-widgets/base",
            "_view_module_version": "1.2.0",
            "_view_name": "LayoutView",
            "align_content": null,
            "align_items": null,
            "align_self": null,
            "border": null,
            "bottom": null,
            "display": null,
            "flex": null,
            "flex_flow": null,
            "grid_area": null,
            "grid_auto_columns": null,
            "grid_auto_flow": null,
            "grid_auto_rows": null,
            "grid_column": null,
            "grid_gap": null,
            "grid_row": null,
            "grid_template_areas": null,
            "grid_template_columns": null,
            "grid_template_rows": null,
            "height": null,
            "justify_content": null,
            "justify_items": null,
            "left": null,
            "margin": null,
            "max_height": null,
            "max_width": null,
            "min_height": null,
            "min_width": null,
            "object_fit": null,
            "object_position": null,
            "order": null,
            "overflow": null,
            "overflow_x": null,
            "overflow_y": null,
            "padding": null,
            "right": null,
            "top": null,
            "visibility": null,
            "width": null
          }
        },
        "0cc5cdfc9ee5410ca28f6cbe9bb79fad": {
          "model_module": "@jupyter-widgets/controls",
          "model_module_version": "1.5.0",
          "model_name": "FloatProgressModel",
          "state": {
            "_dom_classes": [],
            "_model_module": "@jupyter-widgets/controls",
            "_model_module_version": "1.5.0",
            "_model_name": "FloatProgressModel",
            "_view_count": null,
            "_view_module": "@jupyter-widgets/controls",
            "_view_module_version": "1.5.0",
            "_view_name": "ProgressView",
            "bar_style": "success",
            "description": "",
            "description_tooltip": null,
            "layout": "IPY_MODEL_17fd2ed333454896a2b5f501a320ae7a",
            "max": 898823,
            "min": 0,
            "orientation": "horizontal",
            "style": "IPY_MODEL_7a1cf06841c745c8a93ece70a36a9a98",
            "value": 898823
          }
        },
        "103437f6536742ab81dde50ea0ecfb19": {
          "model_module": "@jupyter-widgets/controls",
          "model_module_version": "1.5.0",
          "model_name": "HTMLModel",
          "state": {
            "_dom_classes": [],
            "_model_module": "@jupyter-widgets/controls",
            "_model_module_version": "1.5.0",
            "_model_name": "HTMLModel",
            "_view_count": null,
            "_view_module": "@jupyter-widgets/controls",
            "_view_module_version": "1.5.0",
            "_view_name": "HTMLView",
            "description": "",
            "description_tooltip": null,
            "layout": "IPY_MODEL_e94ab3793d1b411d962354e6d6b765a2",
            "placeholder": "​",
            "style": "IPY_MODEL_f266d661a4f7475784e40883d3cdf356",
            "value": "tokenizer.json: 100%"
          }
        },
        "1350221a5922475d9eb24281f11eba81": {
          "model_module": "@jupyter-widgets/base",
          "model_module_version": "1.2.0",
          "model_name": "LayoutModel",
          "state": {
            "_model_module": "@jupyter-widgets/base",
            "_model_module_version": "1.2.0",
            "_model_name": "LayoutModel",
            "_view_count": null,
            "_view_module": "@jupyter-widgets/base",
            "_view_module_version": "1.2.0",
            "_view_name": "LayoutView",
            "align_content": null,
            "align_items": null,
            "align_self": null,
            "border": null,
            "bottom": null,
            "display": null,
            "flex": null,
            "flex_flow": null,
            "grid_area": null,
            "grid_auto_columns": null,
            "grid_auto_flow": null,
            "grid_auto_rows": null,
            "grid_column": null,
            "grid_gap": null,
            "grid_row": null,
            "grid_template_areas": null,
            "grid_template_columns": null,
            "grid_template_rows": null,
            "height": null,
            "justify_content": null,
            "justify_items": null,
            "left": null,
            "margin": null,
            "max_height": null,
            "max_width": null,
            "min_height": null,
            "min_width": null,
            "object_fit": null,
            "object_position": null,
            "order": null,
            "overflow": null,
            "overflow_x": null,
            "overflow_y": null,
            "padding": null,
            "right": null,
            "top": null,
            "visibility": null,
            "width": null
          }
        },
        "162af2350f1146b2888ccc9e8326fb90": {
          "model_module": "@jupyter-widgets/controls",
          "model_module_version": "1.5.0",
          "model_name": "HTMLModel",
          "state": {
            "_dom_classes": [],
            "_model_module": "@jupyter-widgets/controls",
            "_model_module_version": "1.5.0",
            "_model_name": "HTMLModel",
            "_view_count": null,
            "_view_module": "@jupyter-widgets/controls",
            "_view_module_version": "1.5.0",
            "_view_name": "HTMLView",
            "description": "",
            "description_tooltip": null,
            "layout": "IPY_MODEL_d50326494b2a43529eb662cddc1dcdb3",
            "placeholder": "​",
            "style": "IPY_MODEL_81afbc93e8f8492196de7480f9f40ef5",
            "value": "tokenizer_config.json: 100%"
          }
        },
        "17fd2ed333454896a2b5f501a320ae7a": {
          "model_module": "@jupyter-widgets/base",
          "model_module_version": "1.2.0",
          "model_name": "LayoutModel",
          "state": {
            "_model_module": "@jupyter-widgets/base",
            "_model_module_version": "1.2.0",
            "_model_name": "LayoutModel",
            "_view_count": null,
            "_view_module": "@jupyter-widgets/base",
            "_view_module_version": "1.2.0",
            "_view_name": "LayoutView",
            "align_content": null,
            "align_items": null,
            "align_self": null,
            "border": null,
            "bottom": null,
            "display": null,
            "flex": null,
            "flex_flow": null,
            "grid_area": null,
            "grid_auto_columns": null,
            "grid_auto_flow": null,
            "grid_auto_rows": null,
            "grid_column": null,
            "grid_gap": null,
            "grid_row": null,
            "grid_template_areas": null,
            "grid_template_columns": null,
            "grid_template_rows": null,
            "height": null,
            "justify_content": null,
            "justify_items": null,
            "left": null,
            "margin": null,
            "max_height": null,
            "max_width": null,
            "min_height": null,
            "min_width": null,
            "object_fit": null,
            "object_position": null,
            "order": null,
            "overflow": null,
            "overflow_x": null,
            "overflow_y": null,
            "padding": null,
            "right": null,
            "top": null,
            "visibility": null,
            "width": null
          }
        },
        "1de796696a1b4716af7eea196c405ae6": {
          "model_module": "@jupyter-widgets/controls",
          "model_module_version": "1.5.0",
          "model_name": "HTMLModel",
          "state": {
            "_dom_classes": [],
            "_model_module": "@jupyter-widgets/controls",
            "_model_module_version": "1.5.0",
            "_model_name": "HTMLModel",
            "_view_count": null,
            "_view_module": "@jupyter-widgets/controls",
            "_view_module_version": "1.5.0",
            "_view_name": "HTMLView",
            "description": "",
            "description_tooltip": null,
            "layout": "IPY_MODEL_940961a2c1aa4a89acdcdb28c8ef6b6c",
            "placeholder": "​",
            "style": "IPY_MODEL_8a15b00d2f7c45edbdedb730d1e8f191",
            "value": " 25.0/25.0 [00:00&lt;00:00, 461B/s]"
          }
        },
        "246e237bb7184275ad419cf539a1e0de": {
          "model_module": "@jupyter-widgets/controls",
          "model_module_version": "1.5.0",
          "model_name": "HBoxModel",
          "state": {
            "_dom_classes": [],
            "_model_module": "@jupyter-widgets/controls",
            "_model_module_version": "1.5.0",
            "_model_name": "HBoxModel",
            "_view_count": null,
            "_view_module": "@jupyter-widgets/controls",
            "_view_module_version": "1.5.0",
            "_view_name": "HBoxView",
            "box_style": "",
            "children": [
              "IPY_MODEL_103437f6536742ab81dde50ea0ecfb19",
              "IPY_MODEL_e4d0ea6adbca419abae1c2e91ed68322",
              "IPY_MODEL_bbf640b56c1b4827acf3e404d32630f2"
            ],
            "layout": "IPY_MODEL_eaa2f3d16f3540bbb27c3be8d48e7661"
          }
        },
        "26557718b1a541b1b8a3b3d1eb4dc4f1": {
          "model_module": "@jupyter-widgets/controls",
          "model_module_version": "1.5.0",
          "model_name": "ProgressStyleModel",
          "state": {
            "_model_module": "@jupyter-widgets/controls",
            "_model_module_version": "1.5.0",
            "_model_name": "ProgressStyleModel",
            "_view_count": null,
            "_view_module": "@jupyter-widgets/base",
            "_view_module_version": "1.2.0",
            "_view_name": "StyleView",
            "bar_color": null,
            "description_width": ""
          }
        },
        "289da235fdb04677af74adb94f7c7247": {
          "model_module": "@jupyter-widgets/controls",
          "model_module_version": "1.5.0",
          "model_name": "HTMLModel",
          "state": {
            "_dom_classes": [],
            "_model_module": "@jupyter-widgets/controls",
            "_model_module_version": "1.5.0",
            "_model_name": "HTMLModel",
            "_view_count": null,
            "_view_module": "@jupyter-widgets/controls",
            "_view_module_version": "1.5.0",
            "_view_name": "HTMLView",
            "description": "",
            "description_tooltip": null,
            "layout": "IPY_MODEL_9cabf33d464f4c25b0031bb185b9de58",
            "placeholder": "​",
            "style": "IPY_MODEL_a9c03502bcc34b2585c8f2d3e514d4c1",
            "value": "config.json: 100%"
          }
        },
        "2e8ed0e60ddc4b8f9673f967f3f5f702": {
          "model_module": "@jupyter-widgets/controls",
          "model_module_version": "1.5.0",
          "model_name": "FloatProgressModel",
          "state": {
            "_dom_classes": [],
            "_model_module": "@jupyter-widgets/controls",
            "_model_module_version": "1.5.0",
            "_model_name": "FloatProgressModel",
            "_view_count": null,
            "_view_module": "@jupyter-widgets/controls",
            "_view_module_version": "1.5.0",
            "_view_name": "ProgressView",
            "bar_style": "success",
            "description": "",
            "description_tooltip": null,
            "layout": "IPY_MODEL_05fada95cd634f259af531630c29909b",
            "max": 25,
            "min": 0,
            "orientation": "horizontal",
            "style": "IPY_MODEL_4cb56a76b05e4174ade5d82d736821a7",
            "value": 25
          }
        },
        "2fcfcdff94d247ae8469539c9bae6e96": {
          "model_module": "@jupyter-widgets/base",
          "model_module_version": "1.2.0",
          "model_name": "LayoutModel",
          "state": {
            "_model_module": "@jupyter-widgets/base",
            "_model_module_version": "1.2.0",
            "_model_name": "LayoutModel",
            "_view_count": null,
            "_view_module": "@jupyter-widgets/base",
            "_view_module_version": "1.2.0",
            "_view_name": "LayoutView",
            "align_content": null,
            "align_items": null,
            "align_self": null,
            "border": null,
            "bottom": null,
            "display": null,
            "flex": null,
            "flex_flow": null,
            "grid_area": null,
            "grid_auto_columns": null,
            "grid_auto_flow": null,
            "grid_auto_rows": null,
            "grid_column": null,
            "grid_gap": null,
            "grid_row": null,
            "grid_template_areas": null,
            "grid_template_columns": null,
            "grid_template_rows": null,
            "height": null,
            "justify_content": null,
            "justify_items": null,
            "left": null,
            "margin": null,
            "max_height": null,
            "max_width": null,
            "min_height": null,
            "min_width": null,
            "object_fit": null,
            "object_position": null,
            "order": null,
            "overflow": null,
            "overflow_x": null,
            "overflow_y": null,
            "padding": null,
            "right": null,
            "top": null,
            "visibility": null,
            "width": null
          }
        },
        "34c2b30130d245668a8ed89d564a140b": {
          "model_module": "@jupyter-widgets/base",
          "model_module_version": "1.2.0",
          "model_name": "LayoutModel",
          "state": {
            "_model_module": "@jupyter-widgets/base",
            "_model_module_version": "1.2.0",
            "_model_name": "LayoutModel",
            "_view_count": null,
            "_view_module": "@jupyter-widgets/base",
            "_view_module_version": "1.2.0",
            "_view_name": "LayoutView",
            "align_content": null,
            "align_items": null,
            "align_self": null,
            "border": null,
            "bottom": null,
            "display": null,
            "flex": null,
            "flex_flow": null,
            "grid_area": null,
            "grid_auto_columns": null,
            "grid_auto_flow": null,
            "grid_auto_rows": null,
            "grid_column": null,
            "grid_gap": null,
            "grid_row": null,
            "grid_template_areas": null,
            "grid_template_columns": null,
            "grid_template_rows": null,
            "height": null,
            "justify_content": null,
            "justify_items": null,
            "left": null,
            "margin": null,
            "max_height": null,
            "max_width": null,
            "min_height": null,
            "min_width": null,
            "object_fit": null,
            "object_position": null,
            "order": null,
            "overflow": null,
            "overflow_x": null,
            "overflow_y": null,
            "padding": null,
            "right": null,
            "top": null,
            "visibility": null,
            "width": null
          }
        },
        "413c7175a436454695086f6c5e4c9bcc": {
          "model_module": "@jupyter-widgets/controls",
          "model_module_version": "1.5.0",
          "model_name": "FloatProgressModel",
          "state": {
            "_dom_classes": [],
            "_model_module": "@jupyter-widgets/controls",
            "_model_module_version": "1.5.0",
            "_model_name": "FloatProgressModel",
            "_view_count": null,
            "_view_module": "@jupyter-widgets/controls",
            "_view_module_version": "1.5.0",
            "_view_name": "ProgressView",
            "bar_style": "success",
            "description": "",
            "description_tooltip": null,
            "layout": "IPY_MODEL_64c937cea6e24e85b363bef09cf3330d",
            "max": 456318,
            "min": 0,
            "orientation": "horizontal",
            "style": "IPY_MODEL_adad3497f2c549a5847ba0df038c5c64",
            "value": 456318
          }
        },
        "4cb56a76b05e4174ade5d82d736821a7": {
          "model_module": "@jupyter-widgets/controls",
          "model_module_version": "1.5.0",
          "model_name": "ProgressStyleModel",
          "state": {
            "_model_module": "@jupyter-widgets/controls",
            "_model_module_version": "1.5.0",
            "_model_name": "ProgressStyleModel",
            "_view_count": null,
            "_view_module": "@jupyter-widgets/base",
            "_view_module_version": "1.2.0",
            "_view_name": "StyleView",
            "bar_color": null,
            "description_width": ""
          }
        },
        "5061cd279e6b49b6ba85190c0b6d4c74": {
          "model_module": "@jupyter-widgets/controls",
          "model_module_version": "1.5.0",
          "model_name": "HTMLModel",
          "state": {
            "_dom_classes": [],
            "_model_module": "@jupyter-widgets/controls",
            "_model_module_version": "1.5.0",
            "_model_name": "HTMLModel",
            "_view_count": null,
            "_view_module": "@jupyter-widgets/controls",
            "_view_module_version": "1.5.0",
            "_view_name": "HTMLView",
            "description": "",
            "description_tooltip": null,
            "layout": "IPY_MODEL_fe7473b1997141579203c7ddd85b0f3a",
            "placeholder": "​",
            "style": "IPY_MODEL_f4ff060385e54a95b4b60bef3d91a90b",
            "value": " 481/481 [00:00&lt;00:00, 10.5kB/s]"
          }
        },
        "5f97e408c7d94d4d85653fa4c5f61404": {
          "model_module": "@jupyter-widgets/controls",
          "model_module_version": "1.5.0",
          "model_name": "HBoxModel",
          "state": {
            "_dom_classes": [],
            "_model_module": "@jupyter-widgets/controls",
            "_model_module_version": "1.5.0",
            "_model_name": "HBoxModel",
            "_view_count": null,
            "_view_module": "@jupyter-widgets/controls",
            "_view_module_version": "1.5.0",
            "_view_name": "HBoxView",
            "box_style": "",
            "children": [
              "IPY_MODEL_289da235fdb04677af74adb94f7c7247",
              "IPY_MODEL_b8877393c2d645589b2f40b5a55cd9d8",
              "IPY_MODEL_5061cd279e6b49b6ba85190c0b6d4c74"
            ],
            "layout": "IPY_MODEL_af13186048664dbeb3020a31c4eee291"
          }
        },
        "62ef24fe1fb0487a9dbaff9b8c2d12f6": {
          "model_module": "@jupyter-widgets/controls",
          "model_module_version": "1.5.0",
          "model_name": "HTMLModel",
          "state": {
            "_dom_classes": [],
            "_model_module": "@jupyter-widgets/controls",
            "_model_module_version": "1.5.0",
            "_model_name": "HTMLModel",
            "_view_count": null,
            "_view_module": "@jupyter-widgets/controls",
            "_view_module_version": "1.5.0",
            "_view_name": "HTMLView",
            "description": "",
            "description_tooltip": null,
            "layout": "IPY_MODEL_acb7d553039049cbb1a1f7b29cad5896",
            "placeholder": "​",
            "style": "IPY_MODEL_8a43d8591d594165bb7c5088b71dde3b",
            "value": " 456k/456k [00:00&lt;00:00, 13.9MB/s]"
          }
        },
        "6338bc4a44d44629be3860fc1bb4dc4c": {
          "model_module": "@jupyter-widgets/base",
          "model_module_version": "1.2.0",
          "model_name": "LayoutModel",
          "state": {
            "_model_module": "@jupyter-widgets/base",
            "_model_module_version": "1.2.0",
            "_model_name": "LayoutModel",
            "_view_count": null,
            "_view_module": "@jupyter-widgets/base",
            "_view_module_version": "1.2.0",
            "_view_name": "LayoutView",
            "align_content": null,
            "align_items": null,
            "align_self": null,
            "border": null,
            "bottom": null,
            "display": null,
            "flex": null,
            "flex_flow": null,
            "grid_area": null,
            "grid_auto_columns": null,
            "grid_auto_flow": null,
            "grid_auto_rows": null,
            "grid_column": null,
            "grid_gap": null,
            "grid_row": null,
            "grid_template_areas": null,
            "grid_template_columns": null,
            "grid_template_rows": null,
            "height": null,
            "justify_content": null,
            "justify_items": null,
            "left": null,
            "margin": null,
            "max_height": null,
            "max_width": null,
            "min_height": null,
            "min_width": null,
            "object_fit": null,
            "object_position": null,
            "order": null,
            "overflow": null,
            "overflow_x": null,
            "overflow_y": null,
            "padding": null,
            "right": null,
            "top": null,
            "visibility": null,
            "width": null
          }
        },
        "64c937cea6e24e85b363bef09cf3330d": {
          "model_module": "@jupyter-widgets/base",
          "model_module_version": "1.2.0",
          "model_name": "LayoutModel",
          "state": {
            "_model_module": "@jupyter-widgets/base",
            "_model_module_version": "1.2.0",
            "_model_name": "LayoutModel",
            "_view_count": null,
            "_view_module": "@jupyter-widgets/base",
            "_view_module_version": "1.2.0",
            "_view_name": "LayoutView",
            "align_content": null,
            "align_items": null,
            "align_self": null,
            "border": null,
            "bottom": null,
            "display": null,
            "flex": null,
            "flex_flow": null,
            "grid_area": null,
            "grid_auto_columns": null,
            "grid_auto_flow": null,
            "grid_auto_rows": null,
            "grid_column": null,
            "grid_gap": null,
            "grid_row": null,
            "grid_template_areas": null,
            "grid_template_columns": null,
            "grid_template_rows": null,
            "height": null,
            "justify_content": null,
            "justify_items": null,
            "left": null,
            "margin": null,
            "max_height": null,
            "max_width": null,
            "min_height": null,
            "min_width": null,
            "object_fit": null,
            "object_position": null,
            "order": null,
            "overflow": null,
            "overflow_x": null,
            "overflow_y": null,
            "padding": null,
            "right": null,
            "top": null,
            "visibility": null,
            "width": null
          }
        },
        "66f487eac3a2466db52c2065474019e6": {
          "model_module": "@jupyter-widgets/controls",
          "model_module_version": "1.5.0",
          "model_name": "DescriptionStyleModel",
          "state": {
            "_model_module": "@jupyter-widgets/controls",
            "_model_module_version": "1.5.0",
            "_model_name": "DescriptionStyleModel",
            "_view_count": null,
            "_view_module": "@jupyter-widgets/base",
            "_view_module_version": "1.2.0",
            "_view_name": "StyleView",
            "description_width": ""
          }
        },
        "69527000a41c4e6abec4961ab1d07090": {
          "model_module": "@jupyter-widgets/controls",
          "model_module_version": "1.5.0",
          "model_name": "DescriptionStyleModel",
          "state": {
            "_model_module": "@jupyter-widgets/controls",
            "_model_module_version": "1.5.0",
            "_model_name": "DescriptionStyleModel",
            "_view_count": null,
            "_view_module": "@jupyter-widgets/base",
            "_view_module_version": "1.2.0",
            "_view_name": "StyleView",
            "description_width": ""
          }
        },
        "72beb699b99c42399289ca5f9158758c": {
          "model_module": "@jupyter-widgets/base",
          "model_module_version": "1.2.0",
          "model_name": "LayoutModel",
          "state": {
            "_model_module": "@jupyter-widgets/base",
            "_model_module_version": "1.2.0",
            "_model_name": "LayoutModel",
            "_view_count": null,
            "_view_module": "@jupyter-widgets/base",
            "_view_module_version": "1.2.0",
            "_view_name": "LayoutView",
            "align_content": null,
            "align_items": null,
            "align_self": null,
            "border": null,
            "bottom": null,
            "display": null,
            "flex": null,
            "flex_flow": null,
            "grid_area": null,
            "grid_auto_columns": null,
            "grid_auto_flow": null,
            "grid_auto_rows": null,
            "grid_column": null,
            "grid_gap": null,
            "grid_row": null,
            "grid_template_areas": null,
            "grid_template_columns": null,
            "grid_template_rows": null,
            "height": null,
            "justify_content": null,
            "justify_items": null,
            "left": null,
            "margin": null,
            "max_height": null,
            "max_width": null,
            "min_height": null,
            "min_width": null,
            "object_fit": null,
            "object_position": null,
            "order": null,
            "overflow": null,
            "overflow_x": null,
            "overflow_y": null,
            "padding": null,
            "right": null,
            "top": null,
            "visibility": null,
            "width": null
          }
        },
        "73ff86a190c9457780510e047e26c1ae": {
          "model_module": "@jupyter-widgets/controls",
          "model_module_version": "1.5.0",
          "model_name": "FloatProgressModel",
          "state": {
            "_dom_classes": [],
            "_model_module": "@jupyter-widgets/controls",
            "_model_module_version": "1.5.0",
            "_model_name": "FloatProgressModel",
            "_view_count": null,
            "_view_module": "@jupyter-widgets/controls",
            "_view_module_version": "1.5.0",
            "_view_name": "ProgressView",
            "bar_style": "success",
            "description": "",
            "description_tooltip": null,
            "layout": "IPY_MODEL_0958836d4aca42deb29365166161b935",
            "max": 498818054,
            "min": 0,
            "orientation": "horizontal",
            "style": "IPY_MODEL_dcb2bcff49a0496c94493517d8fd1026",
            "value": 498818054
          }
        },
        "74cfe1a37c1248adbbcfeb0cf6596d07": {
          "model_module": "@jupyter-widgets/controls",
          "model_module_version": "1.5.0",
          "model_name": "HBoxModel",
          "state": {
            "_dom_classes": [],
            "_model_module": "@jupyter-widgets/controls",
            "_model_module_version": "1.5.0",
            "_model_name": "HBoxModel",
            "_view_count": null,
            "_view_module": "@jupyter-widgets/controls",
            "_view_module_version": "1.5.0",
            "_view_name": "HBoxView",
            "box_style": "",
            "children": [
              "IPY_MODEL_ea93fb6f33cf465cbe6b840aeebdd8ba",
              "IPY_MODEL_73ff86a190c9457780510e047e26c1ae",
              "IPY_MODEL_ae843fe5e3be4b958d74fa3757698a1c"
            ],
            "layout": "IPY_MODEL_052ebfaa6a794b6997870f3c957c523a"
          }
        },
        "7a1cf06841c745c8a93ece70a36a9a98": {
          "model_module": "@jupyter-widgets/controls",
          "model_module_version": "1.5.0",
          "model_name": "ProgressStyleModel",
          "state": {
            "_model_module": "@jupyter-widgets/controls",
            "_model_module_version": "1.5.0",
            "_model_name": "ProgressStyleModel",
            "_view_count": null,
            "_view_module": "@jupyter-widgets/base",
            "_view_module_version": "1.2.0",
            "_view_name": "StyleView",
            "bar_color": null,
            "description_width": ""
          }
        },
        "7a938fa71f8e4a85aec2b44ee3f82144": {
          "model_module": "@jupyter-widgets/controls",
          "model_module_version": "1.5.0",
          "model_name": "HBoxModel",
          "state": {
            "_dom_classes": [],
            "_model_module": "@jupyter-widgets/controls",
            "_model_module_version": "1.5.0",
            "_model_name": "HBoxModel",
            "_view_count": null,
            "_view_module": "@jupyter-widgets/controls",
            "_view_module_version": "1.5.0",
            "_view_name": "HBoxView",
            "box_style": "",
            "children": [
              "IPY_MODEL_cab897855d7f42f698094b70fddfdbd0",
              "IPY_MODEL_0cc5cdfc9ee5410ca28f6cbe9bb79fad",
              "IPY_MODEL_91ac45040b074872b389b45d3521cd01"
            ],
            "layout": "IPY_MODEL_b2e7ee61c72a4496a5870c99af02e40b"
          }
        },
        "81afbc93e8f8492196de7480f9f40ef5": {
          "model_module": "@jupyter-widgets/controls",
          "model_module_version": "1.5.0",
          "model_name": "DescriptionStyleModel",
          "state": {
            "_model_module": "@jupyter-widgets/controls",
            "_model_module_version": "1.5.0",
            "_model_name": "DescriptionStyleModel",
            "_view_count": null,
            "_view_module": "@jupyter-widgets/base",
            "_view_module_version": "1.2.0",
            "_view_name": "StyleView",
            "description_width": ""
          }
        },
        "8a15b00d2f7c45edbdedb730d1e8f191": {
          "model_module": "@jupyter-widgets/controls",
          "model_module_version": "1.5.0",
          "model_name": "DescriptionStyleModel",
          "state": {
            "_model_module": "@jupyter-widgets/controls",
            "_model_module_version": "1.5.0",
            "_model_name": "DescriptionStyleModel",
            "_view_count": null,
            "_view_module": "@jupyter-widgets/base",
            "_view_module_version": "1.2.0",
            "_view_name": "StyleView",
            "description_width": ""
          }
        },
        "8a43d8591d594165bb7c5088b71dde3b": {
          "model_module": "@jupyter-widgets/controls",
          "model_module_version": "1.5.0",
          "model_name": "DescriptionStyleModel",
          "state": {
            "_model_module": "@jupyter-widgets/controls",
            "_model_module_version": "1.5.0",
            "_model_name": "DescriptionStyleModel",
            "_view_count": null,
            "_view_module": "@jupyter-widgets/base",
            "_view_module_version": "1.2.0",
            "_view_name": "StyleView",
            "description_width": ""
          }
        },
        "91ac45040b074872b389b45d3521cd01": {
          "model_module": "@jupyter-widgets/controls",
          "model_module_version": "1.5.0",
          "model_name": "HTMLModel",
          "state": {
            "_dom_classes": [],
            "_model_module": "@jupyter-widgets/controls",
            "_model_module_version": "1.5.0",
            "_model_name": "HTMLModel",
            "_view_count": null,
            "_view_module": "@jupyter-widgets/controls",
            "_view_module_version": "1.5.0",
            "_view_name": "HTMLView",
            "description": "",
            "description_tooltip": null,
            "layout": "IPY_MODEL_72beb699b99c42399289ca5f9158758c",
            "placeholder": "​",
            "style": "IPY_MODEL_e8851c951fb248768ad072a619f9b614",
            "value": " 899k/899k [00:00&lt;00:00, 2.77MB/s]"
          }
        },
        "940961a2c1aa4a89acdcdb28c8ef6b6c": {
          "model_module": "@jupyter-widgets/base",
          "model_module_version": "1.2.0",
          "model_name": "LayoutModel",
          "state": {
            "_model_module": "@jupyter-widgets/base",
            "_model_module_version": "1.2.0",
            "_model_name": "LayoutModel",
            "_view_count": null,
            "_view_module": "@jupyter-widgets/base",
            "_view_module_version": "1.2.0",
            "_view_name": "LayoutView",
            "align_content": null,
            "align_items": null,
            "align_self": null,
            "border": null,
            "bottom": null,
            "display": null,
            "flex": null,
            "flex_flow": null,
            "grid_area": null,
            "grid_auto_columns": null,
            "grid_auto_flow": null,
            "grid_auto_rows": null,
            "grid_column": null,
            "grid_gap": null,
            "grid_row": null,
            "grid_template_areas": null,
            "grid_template_columns": null,
            "grid_template_rows": null,
            "height": null,
            "justify_content": null,
            "justify_items": null,
            "left": null,
            "margin": null,
            "max_height": null,
            "max_width": null,
            "min_height": null,
            "min_width": null,
            "object_fit": null,
            "object_position": null,
            "order": null,
            "overflow": null,
            "overflow_x": null,
            "overflow_y": null,
            "padding": null,
            "right": null,
            "top": null,
            "visibility": null,
            "width": null
          }
        },
        "942f1b1a134148229c0678ef1f93e2ac": {
          "model_module": "@jupyter-widgets/base",
          "model_module_version": "1.2.0",
          "model_name": "LayoutModel",
          "state": {
            "_model_module": "@jupyter-widgets/base",
            "_model_module_version": "1.2.0",
            "_model_name": "LayoutModel",
            "_view_count": null,
            "_view_module": "@jupyter-widgets/base",
            "_view_module_version": "1.2.0",
            "_view_name": "LayoutView",
            "align_content": null,
            "align_items": null,
            "align_self": null,
            "border": null,
            "bottom": null,
            "display": null,
            "flex": null,
            "flex_flow": null,
            "grid_area": null,
            "grid_auto_columns": null,
            "grid_auto_flow": null,
            "grid_auto_rows": null,
            "grid_column": null,
            "grid_gap": null,
            "grid_row": null,
            "grid_template_areas": null,
            "grid_template_columns": null,
            "grid_template_rows": null,
            "height": null,
            "justify_content": null,
            "justify_items": null,
            "left": null,
            "margin": null,
            "max_height": null,
            "max_width": null,
            "min_height": null,
            "min_width": null,
            "object_fit": null,
            "object_position": null,
            "order": null,
            "overflow": null,
            "overflow_x": null,
            "overflow_y": null,
            "padding": null,
            "right": null,
            "top": null,
            "visibility": null,
            "width": null
          }
        },
        "9cabf33d464f4c25b0031bb185b9de58": {
          "model_module": "@jupyter-widgets/base",
          "model_module_version": "1.2.0",
          "model_name": "LayoutModel",
          "state": {
            "_model_module": "@jupyter-widgets/base",
            "_model_module_version": "1.2.0",
            "_model_name": "LayoutModel",
            "_view_count": null,
            "_view_module": "@jupyter-widgets/base",
            "_view_module_version": "1.2.0",
            "_view_name": "LayoutView",
            "align_content": null,
            "align_items": null,
            "align_self": null,
            "border": null,
            "bottom": null,
            "display": null,
            "flex": null,
            "flex_flow": null,
            "grid_area": null,
            "grid_auto_columns": null,
            "grid_auto_flow": null,
            "grid_auto_rows": null,
            "grid_column": null,
            "grid_gap": null,
            "grid_row": null,
            "grid_template_areas": null,
            "grid_template_columns": null,
            "grid_template_rows": null,
            "height": null,
            "justify_content": null,
            "justify_items": null,
            "left": null,
            "margin": null,
            "max_height": null,
            "max_width": null,
            "min_height": null,
            "min_width": null,
            "object_fit": null,
            "object_position": null,
            "order": null,
            "overflow": null,
            "overflow_x": null,
            "overflow_y": null,
            "padding": null,
            "right": null,
            "top": null,
            "visibility": null,
            "width": null
          }
        },
        "a9c03502bcc34b2585c8f2d3e514d4c1": {
          "model_module": "@jupyter-widgets/controls",
          "model_module_version": "1.5.0",
          "model_name": "DescriptionStyleModel",
          "state": {
            "_model_module": "@jupyter-widgets/controls",
            "_model_module_version": "1.5.0",
            "_model_name": "DescriptionStyleModel",
            "_view_count": null,
            "_view_module": "@jupyter-widgets/base",
            "_view_module_version": "1.2.0",
            "_view_name": "StyleView",
            "description_width": ""
          }
        },
        "acb509d417984236ba4c014bb539074f": {
          "model_module": "@jupyter-widgets/controls",
          "model_module_version": "1.5.0",
          "model_name": "ProgressStyleModel",
          "state": {
            "_model_module": "@jupyter-widgets/controls",
            "_model_module_version": "1.5.0",
            "_model_name": "ProgressStyleModel",
            "_view_count": null,
            "_view_module": "@jupyter-widgets/base",
            "_view_module_version": "1.2.0",
            "_view_name": "StyleView",
            "bar_color": null,
            "description_width": ""
          }
        },
        "acb7d553039049cbb1a1f7b29cad5896": {
          "model_module": "@jupyter-widgets/base",
          "model_module_version": "1.2.0",
          "model_name": "LayoutModel",
          "state": {
            "_model_module": "@jupyter-widgets/base",
            "_model_module_version": "1.2.0",
            "_model_name": "LayoutModel",
            "_view_count": null,
            "_view_module": "@jupyter-widgets/base",
            "_view_module_version": "1.2.0",
            "_view_name": "LayoutView",
            "align_content": null,
            "align_items": null,
            "align_self": null,
            "border": null,
            "bottom": null,
            "display": null,
            "flex": null,
            "flex_flow": null,
            "grid_area": null,
            "grid_auto_columns": null,
            "grid_auto_flow": null,
            "grid_auto_rows": null,
            "grid_column": null,
            "grid_gap": null,
            "grid_row": null,
            "grid_template_areas": null,
            "grid_template_columns": null,
            "grid_template_rows": null,
            "height": null,
            "justify_content": null,
            "justify_items": null,
            "left": null,
            "margin": null,
            "max_height": null,
            "max_width": null,
            "min_height": null,
            "min_width": null,
            "object_fit": null,
            "object_position": null,
            "order": null,
            "overflow": null,
            "overflow_x": null,
            "overflow_y": null,
            "padding": null,
            "right": null,
            "top": null,
            "visibility": null,
            "width": null
          }
        },
        "adad3497f2c549a5847ba0df038c5c64": {
          "model_module": "@jupyter-widgets/controls",
          "model_module_version": "1.5.0",
          "model_name": "ProgressStyleModel",
          "state": {
            "_model_module": "@jupyter-widgets/controls",
            "_model_module_version": "1.5.0",
            "_model_name": "ProgressStyleModel",
            "_view_count": null,
            "_view_module": "@jupyter-widgets/base",
            "_view_module_version": "1.2.0",
            "_view_name": "StyleView",
            "bar_color": null,
            "description_width": ""
          }
        },
        "ae843fe5e3be4b958d74fa3757698a1c": {
          "model_module": "@jupyter-widgets/controls",
          "model_module_version": "1.5.0",
          "model_name": "HTMLModel",
          "state": {
            "_dom_classes": [],
            "_model_module": "@jupyter-widgets/controls",
            "_model_module_version": "1.5.0",
            "_model_name": "HTMLModel",
            "_view_count": null,
            "_view_module": "@jupyter-widgets/controls",
            "_view_module_version": "1.5.0",
            "_view_name": "HTMLView",
            "description": "",
            "description_tooltip": null,
            "layout": "IPY_MODEL_2fcfcdff94d247ae8469539c9bae6e96",
            "placeholder": "​",
            "style": "IPY_MODEL_66f487eac3a2466db52c2065474019e6",
            "value": " 499M/499M [00:03&lt;00:00, 172MB/s]"
          }
        },
        "af13186048664dbeb3020a31c4eee291": {
          "model_module": "@jupyter-widgets/base",
          "model_module_version": "1.2.0",
          "model_name": "LayoutModel",
          "state": {
            "_model_module": "@jupyter-widgets/base",
            "_model_module_version": "1.2.0",
            "_model_name": "LayoutModel",
            "_view_count": null,
            "_view_module": "@jupyter-widgets/base",
            "_view_module_version": "1.2.0",
            "_view_name": "LayoutView",
            "align_content": null,
            "align_items": null,
            "align_self": null,
            "border": null,
            "bottom": null,
            "display": null,
            "flex": null,
            "flex_flow": null,
            "grid_area": null,
            "grid_auto_columns": null,
            "grid_auto_flow": null,
            "grid_auto_rows": null,
            "grid_column": null,
            "grid_gap": null,
            "grid_row": null,
            "grid_template_areas": null,
            "grid_template_columns": null,
            "grid_template_rows": null,
            "height": null,
            "justify_content": null,
            "justify_items": null,
            "left": null,
            "margin": null,
            "max_height": null,
            "max_width": null,
            "min_height": null,
            "min_width": null,
            "object_fit": null,
            "object_position": null,
            "order": null,
            "overflow": null,
            "overflow_x": null,
            "overflow_y": null,
            "padding": null,
            "right": null,
            "top": null,
            "visibility": null,
            "width": null
          }
        },
        "b2e7ee61c72a4496a5870c99af02e40b": {
          "model_module": "@jupyter-widgets/base",
          "model_module_version": "1.2.0",
          "model_name": "LayoutModel",
          "state": {
            "_model_module": "@jupyter-widgets/base",
            "_model_module_version": "1.2.0",
            "_model_name": "LayoutModel",
            "_view_count": null,
            "_view_module": "@jupyter-widgets/base",
            "_view_module_version": "1.2.0",
            "_view_name": "LayoutView",
            "align_content": null,
            "align_items": null,
            "align_self": null,
            "border": null,
            "bottom": null,
            "display": null,
            "flex": null,
            "flex_flow": null,
            "grid_area": null,
            "grid_auto_columns": null,
            "grid_auto_flow": null,
            "grid_auto_rows": null,
            "grid_column": null,
            "grid_gap": null,
            "grid_row": null,
            "grid_template_areas": null,
            "grid_template_columns": null,
            "grid_template_rows": null,
            "height": null,
            "justify_content": null,
            "justify_items": null,
            "left": null,
            "margin": null,
            "max_height": null,
            "max_width": null,
            "min_height": null,
            "min_width": null,
            "object_fit": null,
            "object_position": null,
            "order": null,
            "overflow": null,
            "overflow_x": null,
            "overflow_y": null,
            "padding": null,
            "right": null,
            "top": null,
            "visibility": null,
            "width": null
          }
        },
        "b67493923fca45c8bf4d920ce8dc1e36": {
          "model_module": "@jupyter-widgets/controls",
          "model_module_version": "1.5.0",
          "model_name": "HBoxModel",
          "state": {
            "_dom_classes": [],
            "_model_module": "@jupyter-widgets/controls",
            "_model_module_version": "1.5.0",
            "_model_name": "HBoxModel",
            "_view_count": null,
            "_view_module": "@jupyter-widgets/controls",
            "_view_module_version": "1.5.0",
            "_view_name": "HBoxView",
            "box_style": "",
            "children": [
              "IPY_MODEL_f029a205a5234adc94f9ab956dac00fc",
              "IPY_MODEL_413c7175a436454695086f6c5e4c9bcc",
              "IPY_MODEL_62ef24fe1fb0487a9dbaff9b8c2d12f6"
            ],
            "layout": "IPY_MODEL_cbffea85f072421db31d091796a3dd6d"
          }
        },
        "b8877393c2d645589b2f40b5a55cd9d8": {
          "model_module": "@jupyter-widgets/controls",
          "model_module_version": "1.5.0",
          "model_name": "FloatProgressModel",
          "state": {
            "_dom_classes": [],
            "_model_module": "@jupyter-widgets/controls",
            "_model_module_version": "1.5.0",
            "_model_name": "FloatProgressModel",
            "_view_count": null,
            "_view_module": "@jupyter-widgets/controls",
            "_view_module_version": "1.5.0",
            "_view_name": "ProgressView",
            "bar_style": "success",
            "description": "",
            "description_tooltip": null,
            "layout": "IPY_MODEL_6338bc4a44d44629be3860fc1bb4dc4c",
            "max": 481,
            "min": 0,
            "orientation": "horizontal",
            "style": "IPY_MODEL_26557718b1a541b1b8a3b3d1eb4dc4f1",
            "value": 481
          }
        },
        "bbf640b56c1b4827acf3e404d32630f2": {
          "model_module": "@jupyter-widgets/controls",
          "model_module_version": "1.5.0",
          "model_name": "HTMLModel",
          "state": {
            "_dom_classes": [],
            "_model_module": "@jupyter-widgets/controls",
            "_model_module_version": "1.5.0",
            "_model_name": "HTMLModel",
            "_view_count": null,
            "_view_module": "@jupyter-widgets/controls",
            "_view_module_version": "1.5.0",
            "_view_name": "HTMLView",
            "description": "",
            "description_tooltip": null,
            "layout": "IPY_MODEL_e536fbf1a9d74d8393e7f815cb046ab0",
            "placeholder": "​",
            "style": "IPY_MODEL_cd5e2d9e1ce947e9b1d0a2294c481eb3",
            "value": " 1.36M/1.36M [00:00&lt;00:00, 4.15MB/s]"
          }
        },
        "bd650c6ce17048e4a9b6d25b187c997c": {
          "model_module": "@jupyter-widgets/controls",
          "model_module_version": "1.5.0",
          "model_name": "DescriptionStyleModel",
          "state": {
            "_model_module": "@jupyter-widgets/controls",
            "_model_module_version": "1.5.0",
            "_model_name": "DescriptionStyleModel",
            "_view_count": null,
            "_view_module": "@jupyter-widgets/base",
            "_view_module_version": "1.2.0",
            "_view_name": "StyleView",
            "description_width": ""
          }
        },
        "c2ac94673a544e14bd4fec065ae241cf": {
          "model_module": "@jupyter-widgets/base",
          "model_module_version": "1.2.0",
          "model_name": "LayoutModel",
          "state": {
            "_model_module": "@jupyter-widgets/base",
            "_model_module_version": "1.2.0",
            "_model_name": "LayoutModel",
            "_view_count": null,
            "_view_module": "@jupyter-widgets/base",
            "_view_module_version": "1.2.0",
            "_view_name": "LayoutView",
            "align_content": null,
            "align_items": null,
            "align_self": null,
            "border": null,
            "bottom": null,
            "display": null,
            "flex": null,
            "flex_flow": null,
            "grid_area": null,
            "grid_auto_columns": null,
            "grid_auto_flow": null,
            "grid_auto_rows": null,
            "grid_column": null,
            "grid_gap": null,
            "grid_row": null,
            "grid_template_areas": null,
            "grid_template_columns": null,
            "grid_template_rows": null,
            "height": null,
            "justify_content": null,
            "justify_items": null,
            "left": null,
            "margin": null,
            "max_height": null,
            "max_width": null,
            "min_height": null,
            "min_width": null,
            "object_fit": null,
            "object_position": null,
            "order": null,
            "overflow": null,
            "overflow_x": null,
            "overflow_y": null,
            "padding": null,
            "right": null,
            "top": null,
            "visibility": null,
            "width": null
          }
        },
        "cab897855d7f42f698094b70fddfdbd0": {
          "model_module": "@jupyter-widgets/controls",
          "model_module_version": "1.5.0",
          "model_name": "HTMLModel",
          "state": {
            "_dom_classes": [],
            "_model_module": "@jupyter-widgets/controls",
            "_model_module_version": "1.5.0",
            "_model_name": "HTMLModel",
            "_view_count": null,
            "_view_module": "@jupyter-widgets/controls",
            "_view_module_version": "1.5.0",
            "_view_name": "HTMLView",
            "description": "",
            "description_tooltip": null,
            "layout": "IPY_MODEL_1350221a5922475d9eb24281f11eba81",
            "placeholder": "​",
            "style": "IPY_MODEL_bd650c6ce17048e4a9b6d25b187c997c",
            "value": "vocab.json: 100%"
          }
        },
        "cbffea85f072421db31d091796a3dd6d": {
          "model_module": "@jupyter-widgets/base",
          "model_module_version": "1.2.0",
          "model_name": "LayoutModel",
          "state": {
            "_model_module": "@jupyter-widgets/base",
            "_model_module_version": "1.2.0",
            "_model_name": "LayoutModel",
            "_view_count": null,
            "_view_module": "@jupyter-widgets/base",
            "_view_module_version": "1.2.0",
            "_view_name": "LayoutView",
            "align_content": null,
            "align_items": null,
            "align_self": null,
            "border": null,
            "bottom": null,
            "display": null,
            "flex": null,
            "flex_flow": null,
            "grid_area": null,
            "grid_auto_columns": null,
            "grid_auto_flow": null,
            "grid_auto_rows": null,
            "grid_column": null,
            "grid_gap": null,
            "grid_row": null,
            "grid_template_areas": null,
            "grid_template_columns": null,
            "grid_template_rows": null,
            "height": null,
            "justify_content": null,
            "justify_items": null,
            "left": null,
            "margin": null,
            "max_height": null,
            "max_width": null,
            "min_height": null,
            "min_width": null,
            "object_fit": null,
            "object_position": null,
            "order": null,
            "overflow": null,
            "overflow_x": null,
            "overflow_y": null,
            "padding": null,
            "right": null,
            "top": null,
            "visibility": null,
            "width": null
          }
        },
        "cc6d19e690654a09b6b14f11b16a56cf": {
          "model_module": "@jupyter-widgets/controls",
          "model_module_version": "1.5.0",
          "model_name": "HBoxModel",
          "state": {
            "_dom_classes": [],
            "_model_module": "@jupyter-widgets/controls",
            "_model_module_version": "1.5.0",
            "_model_name": "HBoxModel",
            "_view_count": null,
            "_view_module": "@jupyter-widgets/controls",
            "_view_module_version": "1.5.0",
            "_view_name": "HBoxView",
            "box_style": "",
            "children": [
              "IPY_MODEL_162af2350f1146b2888ccc9e8326fb90",
              "IPY_MODEL_2e8ed0e60ddc4b8f9673f967f3f5f702",
              "IPY_MODEL_1de796696a1b4716af7eea196c405ae6"
            ],
            "layout": "IPY_MODEL_942f1b1a134148229c0678ef1f93e2ac"
          }
        },
        "cd5e2d9e1ce947e9b1d0a2294c481eb3": {
          "model_module": "@jupyter-widgets/controls",
          "model_module_version": "1.5.0",
          "model_name": "DescriptionStyleModel",
          "state": {
            "_model_module": "@jupyter-widgets/controls",
            "_model_module_version": "1.5.0",
            "_model_name": "DescriptionStyleModel",
            "_view_count": null,
            "_view_module": "@jupyter-widgets/base",
            "_view_module_version": "1.2.0",
            "_view_name": "StyleView",
            "description_width": ""
          }
        },
        "d50326494b2a43529eb662cddc1dcdb3": {
          "model_module": "@jupyter-widgets/base",
          "model_module_version": "1.2.0",
          "model_name": "LayoutModel",
          "state": {
            "_model_module": "@jupyter-widgets/base",
            "_model_module_version": "1.2.0",
            "_model_name": "LayoutModel",
            "_view_count": null,
            "_view_module": "@jupyter-widgets/base",
            "_view_module_version": "1.2.0",
            "_view_name": "LayoutView",
            "align_content": null,
            "align_items": null,
            "align_self": null,
            "border": null,
            "bottom": null,
            "display": null,
            "flex": null,
            "flex_flow": null,
            "grid_area": null,
            "grid_auto_columns": null,
            "grid_auto_flow": null,
            "grid_auto_rows": null,
            "grid_column": null,
            "grid_gap": null,
            "grid_row": null,
            "grid_template_areas": null,
            "grid_template_columns": null,
            "grid_template_rows": null,
            "height": null,
            "justify_content": null,
            "justify_items": null,
            "left": null,
            "margin": null,
            "max_height": null,
            "max_width": null,
            "min_height": null,
            "min_width": null,
            "object_fit": null,
            "object_position": null,
            "order": null,
            "overflow": null,
            "overflow_x": null,
            "overflow_y": null,
            "padding": null,
            "right": null,
            "top": null,
            "visibility": null,
            "width": null
          }
        },
        "dcb2bcff49a0496c94493517d8fd1026": {
          "model_module": "@jupyter-widgets/controls",
          "model_module_version": "1.5.0",
          "model_name": "ProgressStyleModel",
          "state": {
            "_model_module": "@jupyter-widgets/controls",
            "_model_module_version": "1.5.0",
            "_model_name": "ProgressStyleModel",
            "_view_count": null,
            "_view_module": "@jupyter-widgets/base",
            "_view_module_version": "1.2.0",
            "_view_name": "StyleView",
            "bar_color": null,
            "description_width": ""
          }
        },
        "e4d0ea6adbca419abae1c2e91ed68322": {
          "model_module": "@jupyter-widgets/controls",
          "model_module_version": "1.5.0",
          "model_name": "FloatProgressModel",
          "state": {
            "_dom_classes": [],
            "_model_module": "@jupyter-widgets/controls",
            "_model_module_version": "1.5.0",
            "_model_name": "FloatProgressModel",
            "_view_count": null,
            "_view_module": "@jupyter-widgets/controls",
            "_view_module_version": "1.5.0",
            "_view_name": "ProgressView",
            "bar_style": "success",
            "description": "",
            "description_tooltip": null,
            "layout": "IPY_MODEL_c2ac94673a544e14bd4fec065ae241cf",
            "max": 1355863,
            "min": 0,
            "orientation": "horizontal",
            "style": "IPY_MODEL_acb509d417984236ba4c014bb539074f",
            "value": 1355863
          }
        },
        "e536fbf1a9d74d8393e7f815cb046ab0": {
          "model_module": "@jupyter-widgets/base",
          "model_module_version": "1.2.0",
          "model_name": "LayoutModel",
          "state": {
            "_model_module": "@jupyter-widgets/base",
            "_model_module_version": "1.2.0",
            "_model_name": "LayoutModel",
            "_view_count": null,
            "_view_module": "@jupyter-widgets/base",
            "_view_module_version": "1.2.0",
            "_view_name": "LayoutView",
            "align_content": null,
            "align_items": null,
            "align_self": null,
            "border": null,
            "bottom": null,
            "display": null,
            "flex": null,
            "flex_flow": null,
            "grid_area": null,
            "grid_auto_columns": null,
            "grid_auto_flow": null,
            "grid_auto_rows": null,
            "grid_column": null,
            "grid_gap": null,
            "grid_row": null,
            "grid_template_areas": null,
            "grid_template_columns": null,
            "grid_template_rows": null,
            "height": null,
            "justify_content": null,
            "justify_items": null,
            "left": null,
            "margin": null,
            "max_height": null,
            "max_width": null,
            "min_height": null,
            "min_width": null,
            "object_fit": null,
            "object_position": null,
            "order": null,
            "overflow": null,
            "overflow_x": null,
            "overflow_y": null,
            "padding": null,
            "right": null,
            "top": null,
            "visibility": null,
            "width": null
          }
        },
        "e8851c951fb248768ad072a619f9b614": {
          "model_module": "@jupyter-widgets/controls",
          "model_module_version": "1.5.0",
          "model_name": "DescriptionStyleModel",
          "state": {
            "_model_module": "@jupyter-widgets/controls",
            "_model_module_version": "1.5.0",
            "_model_name": "DescriptionStyleModel",
            "_view_count": null,
            "_view_module": "@jupyter-widgets/base",
            "_view_module_version": "1.2.0",
            "_view_name": "StyleView",
            "description_width": ""
          }
        },
        "e94ab3793d1b411d962354e6d6b765a2": {
          "model_module": "@jupyter-widgets/base",
          "model_module_version": "1.2.0",
          "model_name": "LayoutModel",
          "state": {
            "_model_module": "@jupyter-widgets/base",
            "_model_module_version": "1.2.0",
            "_model_name": "LayoutModel",
            "_view_count": null,
            "_view_module": "@jupyter-widgets/base",
            "_view_module_version": "1.2.0",
            "_view_name": "LayoutView",
            "align_content": null,
            "align_items": null,
            "align_self": null,
            "border": null,
            "bottom": null,
            "display": null,
            "flex": null,
            "flex_flow": null,
            "grid_area": null,
            "grid_auto_columns": null,
            "grid_auto_flow": null,
            "grid_auto_rows": null,
            "grid_column": null,
            "grid_gap": null,
            "grid_row": null,
            "grid_template_areas": null,
            "grid_template_columns": null,
            "grid_template_rows": null,
            "height": null,
            "justify_content": null,
            "justify_items": null,
            "left": null,
            "margin": null,
            "max_height": null,
            "max_width": null,
            "min_height": null,
            "min_width": null,
            "object_fit": null,
            "object_position": null,
            "order": null,
            "overflow": null,
            "overflow_x": null,
            "overflow_y": null,
            "padding": null,
            "right": null,
            "top": null,
            "visibility": null,
            "width": null
          }
        },
        "ea698dd7142a4293b110b8cc9775baee": {
          "model_module": "@jupyter-widgets/base",
          "model_module_version": "1.2.0",
          "model_name": "LayoutModel",
          "state": {
            "_model_module": "@jupyter-widgets/base",
            "_model_module_version": "1.2.0",
            "_model_name": "LayoutModel",
            "_view_count": null,
            "_view_module": "@jupyter-widgets/base",
            "_view_module_version": "1.2.0",
            "_view_name": "LayoutView",
            "align_content": null,
            "align_items": null,
            "align_self": null,
            "border": null,
            "bottom": null,
            "display": null,
            "flex": null,
            "flex_flow": null,
            "grid_area": null,
            "grid_auto_columns": null,
            "grid_auto_flow": null,
            "grid_auto_rows": null,
            "grid_column": null,
            "grid_gap": null,
            "grid_row": null,
            "grid_template_areas": null,
            "grid_template_columns": null,
            "grid_template_rows": null,
            "height": null,
            "justify_content": null,
            "justify_items": null,
            "left": null,
            "margin": null,
            "max_height": null,
            "max_width": null,
            "min_height": null,
            "min_width": null,
            "object_fit": null,
            "object_position": null,
            "order": null,
            "overflow": null,
            "overflow_x": null,
            "overflow_y": null,
            "padding": null,
            "right": null,
            "top": null,
            "visibility": null,
            "width": null
          }
        },
        "ea93fb6f33cf465cbe6b840aeebdd8ba": {
          "model_module": "@jupyter-widgets/controls",
          "model_module_version": "1.5.0",
          "model_name": "HTMLModel",
          "state": {
            "_dom_classes": [],
            "_model_module": "@jupyter-widgets/controls",
            "_model_module_version": "1.5.0",
            "_model_name": "HTMLModel",
            "_view_count": null,
            "_view_module": "@jupyter-widgets/controls",
            "_view_module_version": "1.5.0",
            "_view_name": "HTMLView",
            "description": "",
            "description_tooltip": null,
            "layout": "IPY_MODEL_ea698dd7142a4293b110b8cc9775baee",
            "placeholder": "​",
            "style": "IPY_MODEL_0741e08645c8481cb7288159441c7e6d",
            "value": "model.safetensors: 100%"
          }
        },
        "eaa2f3d16f3540bbb27c3be8d48e7661": {
          "model_module": "@jupyter-widgets/base",
          "model_module_version": "1.2.0",
          "model_name": "LayoutModel",
          "state": {
            "_model_module": "@jupyter-widgets/base",
            "_model_module_version": "1.2.0",
            "_model_name": "LayoutModel",
            "_view_count": null,
            "_view_module": "@jupyter-widgets/base",
            "_view_module_version": "1.2.0",
            "_view_name": "LayoutView",
            "align_content": null,
            "align_items": null,
            "align_self": null,
            "border": null,
            "bottom": null,
            "display": null,
            "flex": null,
            "flex_flow": null,
            "grid_area": null,
            "grid_auto_columns": null,
            "grid_auto_flow": null,
            "grid_auto_rows": null,
            "grid_column": null,
            "grid_gap": null,
            "grid_row": null,
            "grid_template_areas": null,
            "grid_template_columns": null,
            "grid_template_rows": null,
            "height": null,
            "justify_content": null,
            "justify_items": null,
            "left": null,
            "margin": null,
            "max_height": null,
            "max_width": null,
            "min_height": null,
            "min_width": null,
            "object_fit": null,
            "object_position": null,
            "order": null,
            "overflow": null,
            "overflow_x": null,
            "overflow_y": null,
            "padding": null,
            "right": null,
            "top": null,
            "visibility": null,
            "width": null
          }
        },
        "f029a205a5234adc94f9ab956dac00fc": {
          "model_module": "@jupyter-widgets/controls",
          "model_module_version": "1.5.0",
          "model_name": "HTMLModel",
          "state": {
            "_dom_classes": [],
            "_model_module": "@jupyter-widgets/controls",
            "_model_module_version": "1.5.0",
            "_model_name": "HTMLModel",
            "_view_count": null,
            "_view_module": "@jupyter-widgets/controls",
            "_view_module_version": "1.5.0",
            "_view_name": "HTMLView",
            "description": "",
            "description_tooltip": null,
            "layout": "IPY_MODEL_34c2b30130d245668a8ed89d564a140b",
            "placeholder": "​",
            "style": "IPY_MODEL_69527000a41c4e6abec4961ab1d07090",
            "value": "merges.txt: 100%"
          }
        },
        "f266d661a4f7475784e40883d3cdf356": {
          "model_module": "@jupyter-widgets/controls",
          "model_module_version": "1.5.0",
          "model_name": "DescriptionStyleModel",
          "state": {
            "_model_module": "@jupyter-widgets/controls",
            "_model_module_version": "1.5.0",
            "_model_name": "DescriptionStyleModel",
            "_view_count": null,
            "_view_module": "@jupyter-widgets/base",
            "_view_module_version": "1.2.0",
            "_view_name": "StyleView",
            "description_width": ""
          }
        },
        "f4ff060385e54a95b4b60bef3d91a90b": {
          "model_module": "@jupyter-widgets/controls",
          "model_module_version": "1.5.0",
          "model_name": "DescriptionStyleModel",
          "state": {
            "_model_module": "@jupyter-widgets/controls",
            "_model_module_version": "1.5.0",
            "_model_name": "DescriptionStyleModel",
            "_view_count": null,
            "_view_module": "@jupyter-widgets/base",
            "_view_module_version": "1.2.0",
            "_view_name": "StyleView",
            "description_width": ""
          }
        },
        "fe7473b1997141579203c7ddd85b0f3a": {
          "model_module": "@jupyter-widgets/base",
          "model_module_version": "1.2.0",
          "model_name": "LayoutModel",
          "state": {
            "_model_module": "@jupyter-widgets/base",
            "_model_module_version": "1.2.0",
            "_model_name": "LayoutModel",
            "_view_count": null,
            "_view_module": "@jupyter-widgets/base",
            "_view_module_version": "1.2.0",
            "_view_name": "LayoutView",
            "align_content": null,
            "align_items": null,
            "align_self": null,
            "border": null,
            "bottom": null,
            "display": null,
            "flex": null,
            "flex_flow": null,
            "grid_area": null,
            "grid_auto_columns": null,
            "grid_auto_flow": null,
            "grid_auto_rows": null,
            "grid_column": null,
            "grid_gap": null,
            "grid_row": null,
            "grid_template_areas": null,
            "grid_template_columns": null,
            "grid_template_rows": null,
            "height": null,
            "justify_content": null,
            "justify_items": null,
            "left": null,
            "margin": null,
            "max_height": null,
            "max_width": null,
            "min_height": null,
            "min_width": null,
            "object_fit": null,
            "object_position": null,
            "order": null,
            "overflow": null,
            "overflow_x": null,
            "overflow_y": null,
            "padding": null,
            "right": null,
            "top": null,
            "visibility": null,
            "width": null
          }
        }
      }
    }
  },
  "nbformat": 4,
  "nbformat_minor": 5
}
